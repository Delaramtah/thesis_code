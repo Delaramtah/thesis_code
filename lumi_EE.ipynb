{
 "cells": [
  {
   "cell_type": "code",
   "execution_count": 2,
   "id": "c2c5f6c3",
   "metadata": {},
   "outputs": [
    {
     "name": "stdout",
     "output_type": "stream",
     "text": [
      "lumi_EE [87238.34252816073, 77708.24903427745, 59961.10069465639]\n",
      "errorlumi_EE [0.0014576390284737877, 0.0014338144313216206, 0.0017108643900726483]\n",
      "bril [116086.333, 100081.51, 93398.989]\n"
     ]
    },
    {
     "data": {
      "image/png": "[encoded data removed]",
      "text/plain": [
       "<Figure size 576x720 with 1 Axes>"
      ]
     },
     "metadata": {
      "needs_background": "light"
     },
     "output_type": "display_data"
    }
   ],
   "source": [
    "import numpy as np\n",
    "import uproot\n",
    "import matplotlib.pyplot as plt\n",
    "\n",
    "# Function to calculate L\n",
    "def calculate_L(N1, N2, N1_prime, N2_prime, constant_value_1):\n",
    "    term1 = (1 / constant_value_1)\n",
    "    term2 = ((2 * N2 + N1) *(2 * N2_prime + N1_prime)) / (4*N2 * N2_prime)\n",
    "    term3 = ((2 * N2 + N1) **2) / (4*N2)\n",
    "    return term1 * term2 * term3\n",
    "\n",
    "# Function to calculate (delta L / L)^2\n",
    "def calculate_delta_L_over_L_squared(N1, N2, N1_prime, N2_prime, delta_N1, delta_N2, delta_N1_prime, delta_N2_prime, constant_value_2, constant_value_3):\n",
    "    term1 = 3 * (delta_N2 / N2) ** 2\n",
    "    term2 = (delta_N2_prime / N2_prime) ** 2\n",
    "    term3 = (4 * (delta_N2) ** 2 + (delta_N1) ** 2) / ((2 * N2 + N1) ** 2)\n",
    "    term4 = (4 * (delta_N2_prime) ** 2 + (delta_N1_prime) ** 2) / ((2 * N2_prime + N1_prime) ** 2)\n",
    "    return term1 + term2 + term3 + term4 + constant_value_2 + constant_value_3\n",
    "\n",
    "# Load data from text files\n",
    "def load_data(file_list):\n",
    "    return [np.loadtxt(file) for file in file_list]\n",
    "\n",
    "# File names for inputs\n",
    "N1_files = [\"N_1hee1.txt\", \"N_1hee2.txt\", \"N_1hee3.txt\"]\n",
    "N2_files = [\"N_2hee1.txt\", \"N_2hee2.txt\", \"N_2hee3.txt\"]\n",
    "N1_prime_files = [\"N_1Iee1.txt\", \"N_1Iee2.txt\", \"N_1Iee3.txt\"]\n",
    "N2_prime_files = [\"N_2Iee1.txt\", \"N_2Iee2.txt\", \"N_2Iee3.txt\"]\n",
    "delta_N1_files = [\"eN_1hee1.txt\", \"eN_1hee2.txt\", \"eN_1hee3.txt\"]\n",
    "delta_N2_files = [\"eN_2hee1.txt\", \"eN_2hee2.txt\", \"eN_2hee3.txt\"]\n",
    "delta_N1_prime_files = [\"eN_1Iee1.txt\", \"eN_1Iee2.txt\", \"eN_1Iee3.txt\"]\n",
    "delta_N2_prime_files = [\"eN_2Iee1.txt\", \"eN_2Iee2.txt\", \"eN_2Iee3.txt\"]\n",
    "\n",
    "# Load all input data for the first set\n",
    "N1 = load_data(N1_files)\n",
    "N2 = load_data(N2_files)\n",
    "N1_prime = load_data(N1_prime_files)\n",
    "N2_prime = load_data(N2_prime_files)\n",
    "delta_N1 = load_data(delta_N1_files)\n",
    "delta_N2 = load_data(delta_N2_files)\n",
    "delta_N1_prime = load_data(delta_N1_prime_files)\n",
    "delta_N2_prime = load_data(delta_N2_prime_files)\n",
    "\n",
    "# Constants\n",
    "constant_value_1 = (2.018*0.106)\n",
    "constant_value_2 =  0.00000369\n",
    "constant_value_3 =  0.000141 \n",
    "\n",
    "# Calculate L and (delta L / L)^2 for the first set of inputs\n",
    "L_values1 = []\n",
    "delta_L_over_L_squared_values1 = []\n",
    "for i in range(len(N1)):\n",
    "    L = calculate_L(N1[i], N2[i], N1_prime[i], N2_prime[i], constant_value_1)\n",
    "    delta_L_squared = calculate_delta_L_over_L_squared(\n",
    "        N1[i], N2[i], N1_prime[i], N2_prime[i], delta_N1[i], delta_N2[i], delta_N1_prime[i], delta_N2_prime[i],\n",
    "        constant_value_2, constant_value_3\n",
    "    )\n",
    "    L_values1.append(L)\n",
    "    delta_L_over_L_squared_values1.append(delta_L_squared)\n",
    "\n",
    "\n",
    "# Process the ROOT file\n",
    "demo_file = \"output_resultshlt.root\"\n",
    "with uproot.open(demo_file) as root_file_2:\n",
    "    uproot_hist = root_file_2[\"h_mass_2hlt_EE\"]\n",
    "    values, edges_lumisec, edges_mass = uproot_hist.to_numpy()\n",
    "\n",
    "# Bin ranges for projections\n",
    "x_bin_start1, x_bin_end1 = 1, 41\n",
    "x_bin_start2, x_bin_end2 = 42, 83\n",
    "x_bin_start3, x_bin_end3 = 83, 120\n",
    "\n",
    "# Calculate midpoints of lumisec bins\n",
    "lumisec_midpoints = [\n",
    "    (edges_lumisec[x_bin_start1] + edges_lumisec[x_bin_end1]) / 2,\n",
    "    (edges_lumisec[x_bin_start2] + edges_lumisec[x_bin_end2]) / 2,\n",
    "    (edges_lumisec[x_bin_start3] + edges_lumisec[x_bin_end3]) / 2,\n",
    "]\n",
    "\n",
    "# Plot the results\n",
    "plt.figure(figsize=(8, 10))\n",
    "print(\"lumi_EE\",L_values1)\n",
    "print(\"errorlumi_EE\",delta_L_over_L_squared_values1)\n",
    "\n",
    "lbril_values = [116086.333 , 100081.51 , 93398.989]\n",
    "rat = [lbril_values[0]/L_values1[0], lbril_values[1]/L_values1[1] , lbril_values[2]/L_values1[2]]\n",
    "\n",
    "\n",
    "print(\"bril\",lbril_values)\n",
    "\n",
    "# Plot L\n",
    "plt.subplot(2, 1, 1)\n",
    "plt.errorbar(lumisec_midpoints, rat , fmt='o', color='red',  capsize=5,label=\"lumi_bril/lumi_EE\")\n",
    "\n",
    "plt.xlabel(\"Lumisec\")\n",
    "plt.ylabel(\"lumi_bril/lumi_EE\")\n",
    "plt.legend()\n",
    "plt.grid()\n",
    "plt.show()\n"
   ]
  },
  {
   "cell_type": "code",
   "execution_count": null,
   "id": "ed89c13c",
   "metadata": {},
   "outputs": [],
   "source": []
  }
 ],
 "metadata": {
  "kernelspec": {
   "display_name": "Python 3",
   "language": "python",
   "name": "python3"
  },
  "language_info": {
   "codemirror_mode": {
    "name": "ipython",
    "version": 3
   },
   "file_extension": ".py",
   "mimetype": "text/x-python",
   "name": "python",
   "nbconvert_exporter": "python",
   "pygments_lexer": "ipython3",
   "version": "3.11.9"
  }
 },
 "nbformat": 4,
 "nbformat_minor": 5
}
