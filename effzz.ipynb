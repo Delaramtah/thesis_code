{
 "cells": [
  {
   "cell_type": "code",
   "execution_count": 1,
   "id": "cfe7c103",
   "metadata": {},
   "outputs": [
    {
     "data": {
      "text/plain": [
       "['countEvents;1',\n",
       " 'countEvents/unweightedEvents;1',\n",
       " 'countEvents/weightedEvents;1',\n",
       " 'pileupMCTemplateMaker;1',\n",
       " 'pileupMCTemplateMaker/MC_TrueNInt_outOfTimeEarly;1',\n",
       " 'pileupMCTemplateMaker/MC_TrueNInt_inTime;1',\n",
       " 'pileupMCTemplateMaker/MC_TrueNInt_outOfTimeLate;1',\n",
       " 'zcounting;1',\n",
       " 'zcounting/tree;1']"
      ]
     },
     "execution_count": 1,
     "metadata": {},
     "output_type": "execute_result"
    }
   ],
   "source": [
    "import uproot\n",
    "import matplotlib.pyplot as plt\n",
    "import vector\n",
    "import awkward as ak\n",
    "import hist\n",
    "import numpy as np\n",
    "import ROOT\n",
    "import itertools\n",
    "\n",
    "\n",
    "treename=\"zcounting/tree\"\n",
    "filename_ntuple=\"/eos/cms/store/group/comm_luminosity/ZCounting/2022/MC/crab/DYJetsToLL_M_50_LO_FlatPU0to70_Run3Winter22.root\"\n",
    "f1=uproot.open(filename_ntuple)\n",
    "f1.keys()"
   ]
  },
  {
   "cell_type": "code",
   "execution_count": 2,
   "id": "f72f239c",
   "metadata": {
    "scrolled": true
   },
   "outputs": [],
   "source": [
    "data=uproot.open(filename_ntuple+\":\"+treename)"
   ]
  },
  {
   "cell_type": "code",
   "execution_count": 3,
   "id": "cc6f2948",
   "metadata": {},
   "outputs": [],
   "source": [
    "# data with identification cuts \n",
    "\n",
    "electron_kine=data.arrays([\"Electron_pt\",\"Electron_eta\",\"Electron_dxyPV\",\"Electron_dEtaInSeed\",\"Electron_deltaPhiSuperClusterTrackAtVtx\",\"Electron_superclusterEnergy\",\n",
    "                          \"Electron_dzPV\",\"Electron_hadronicOverEm\",\"Electron_eSuperClusterOverP\",\"Electron_phi\",\"Electron_charge\",\"Electron_ecalEnergy\",\"Electron_triggerBits\",\"Electron_full5x5_sigmaIetaIeta\",\"Electron_gsfTrackMissingInnerHits\"]\n",
    ",\"(Electron_pt>30)&(abs(Electron_eta)<2.5)&(Electron_full5x5_sigmaIetaIeta<0.0106)&(abs(Electron_dEtaInSeed)<0.0032)&(abs(Electron_deltaPhiSuperClusterTrackAtVtx)<0.0547)&(Electron_gsfTrackMissingInnerHits<=1)&(decayMode==11)\")\n"
   ]
  },
  {
   "cell_type": "code",
   "execution_count": 3,
   "id": "5b3ec2cb",
   "metadata": {},
   "outputs": [],
   "source": [
    "# data without identification cuts \n",
    "\n",
    "electron_gsf=data.arrays([\"Electron_pt\",\"Electron_eta\",\"Electron_dxyPV\",\"Electron_dEtaInSeed\",\"Electron_deltaPhiSuperClusterTrackAtVtx\",\"Electron_superclusterEnergy\",\n",
    "                          \"Electron_dzPV\",\"Electron_hadronicOverEm\",\"Electron_gsfTrackMissingInnerHits\",\"Electron_phi\",\"Electron_charge\",\"Electron_ecalEnergy\",\"Electron_triggerBits\",\"Electron_full5x5_sigmaIetaIeta\"]\n",
    ",\"(Electron_pt>30)&(abs(Electron_eta)<2.5)&(decayMode==11)\")"
   ]
  },
  {
   "cell_type": "code",
   "execution_count": 4,
   "id": "71941f17",
   "metadata": {},
   "outputs": [],
   "source": [
    "# data with id cal\n",
    "\n",
    "electron_idcal = data.arrays([\"Electron_pt\",\"Electron_eta\",\"Electron_dxyPV\",\"Electron_dEtaInSeed\",\"Electron_deltaPhiSuperClusterTrackAtVtx\",\"Electron_superclusterEnergy\",\n",
    "                         \"Electron_dzPV\",\"Electron_hadronicOverEm\",\"Electron_eSuperClusterOverP\",\"Electron_phi\",\"Electron_charge\",\"Electron_ecalEnergy\",\"Electron_triggerBits\",\"Electron_full5x5_sigmaIetaIeta\",\"Electron_gsfTrackMissingInnerHits\"]\n",
    ",\"(Electron_pt>30)&(abs(Electron_eta)<2.5)&(Electron_full5x5_sigmaIetaIeta<0.0106)&(Electron_hadronicOverEm<(0.046+(1.16/Electron_superclusterEnergy)))&(decayMode==11)\")"
   ]
  },
  {
   "cell_type": "code",
   "execution_count": 5,
   "id": "479592e7",
   "metadata": {},
   "outputs": [],
   "source": [
    "# data with id trak\n",
    "\n",
    "electron_idtrk = data.arrays([\"Electron_pt\",\"Electron_eta\",\"Electron_dxyPV\",\"Electron_dEtaInSeed\",\"Electron_deltaPhiSuperClusterTrackAtVtx\",\"Electron_superclusterEnergy\",\n",
    "                         \"Electron_dzPV\",\"Electron_hadronicOverEm\",\"Electron_eSuperClusterOverP\",\"Electron_phi\",\"Electron_charge\",\"Electron_ecalEnergy\",\"Electron_triggerBits\",\"Electron_full5x5_sigmaIetaIeta\",\"Electron_gsfTrackMissingInnerHits\"]\n",
    ",\"(Electron_pt>30)&(abs(Electron_eta)<2.5)&(Electron_gsfTrackMissingInnerHits<=1)&(decayMode==11)\")"
   ]
  },
  {
   "cell_type": "code",
   "execution_count": 15,
   "id": "736f26eb",
   "metadata": {},
   "outputs": [],
   "source": [
    "def produce_pairs(electron_idtrk,electron_gsf):\n",
    "    \n",
    "    Echarge = ak.cartesian([electron_idtrk[\"Electron_charge\"],electron_gsf[\"Electron_charge\"]])\n",
    "    lefts, rights = ak.unzip(Echarge)\n",
    "    mask_Electron = lefts*rights == -1 # they must have opposite charge\n",
    "    \n",
    "    \n",
    "    # select paris of opposite charged electons\n",
    "    \n",
    "    p_pt = ak.flatten( ak.cartesian([electron_idtrk[\"Electron_pt\"],electron_gsf[\"Electron_pt\"]])[mask_Electron]) \n",
    "    p_eta = ak.flatten(ak.cartesian([electron_idtrk[\"Electron_eta\"],electron_gsf[\"Electron_eta\"]])[mask_Electron])\n",
    "    p_phi = ak.flatten(ak.cartesian([electron_idtrk[\"Electron_phi\"],electron_gsf[\"Electron_phi\"]])[mask_Electron])\n",
    "    p_energy = ak.flatten(ak.cartesian([electron_idtrk[\"Electron_ecalEnergy\"],electron_gsf[\"Electron_ecalEnergy\"]])[mask_Electron]) \n",
    "    p_full = ak.flatten(ak.cartesian([electron_idtrk[\"Electron_full5x5_sigmaIetaIeta\"],electron_gsf[\"Electron_full5x5_sigmaIetaIeta\"]])[mask_Electron])\n",
    "    p_dxy = ak.flatten(ak.cartesian([electron_idtrk[\"Electron_dxyPV\"],electron_gsf[\"Electron_dxyPV\"]])[mask_Electron])\n",
    "    p_dz = ak.flatten(ak.cartesian([electron_idtrk[\"Electron_dzPV\"],electron_gsf[\"Electron_dzPV\"]])[mask_Electron])\n",
    "    p_detaseed = ak.flatten(ak.cartesian([electron_idtrk[\"Electron_dEtaInSeed\"],electron_gsf[\"Electron_dEtaInSeed\"]])[mask_Electron])\n",
    "    p_dphin = ak.flatten(ak.cartesian([electron_idtrk[\"Electron_deltaPhiSuperClusterTrackAtVtx\"],electron_gsf[\"Electron_deltaPhiSuperClusterTrackAtVtx\"]])[mask_Electron])\n",
    "    p_hlt = ak.flatten(ak.cartesian([electron_idtrk[\"Electron_triggerBits\"],electron_gsf[\"Electron_triggerBits\"]])[mask_Electron])\n",
    "    p_track = ak.flatten(ak.cartesian([electron_idtrk[\"Electron_gsfTrackMissingInnerHits\"],electron_gsf[\"Electron_gsfTrackMissingInnerHits\"]])[mask_Electron])\n",
    "\n",
    "    #  zcandidate\n",
    "   \n",
    "    l_pt, r_pt = ak.unzip(p_pt)\n",
    "    l_eta, r_eta = ak.unzip(p_eta)\n",
    "    l_phi, r_phi = ak.unzip(p_phi)\n",
    "    l_energy, r_energy = ak.unzip(p_energy)\n",
    "    \n",
    "    # This variable is only for correlation analysis\n",
    "    l_full , r_full = ak.unzip(p_full)\n",
    "    l_dxy, r_dxy = ak.unzip(p_dxy)\n",
    "    l_dz, r_dz = ak.unzip(p_dz)\n",
    "    l_detaseed, r_detaseed = ak.unzip(p_detaseed)\n",
    "    l_dphin, r_dphin = ak.unzip(p_dphin)  \n",
    "    l_hlt , r_hlt = ak.unzip(p_hlt)  \n",
    "    l_track , r_track = ak.unzip(p_track) \n",
    "        \n",
    "    return l_pt,l_eta,l_phi,l_energy,l_full,l_dxy,l_dz,l_detaseed,l_dphin,l_hlt,l_track,r_pt,r_eta,r_phi,r_energy,r_full,r_dxy,r_dz,r_detaseed,r_dphin,r_hlt,r_track\n"
   ]
  },
  {
   "cell_type": "code",
   "execution_count": null,
   "id": "9a3810a0",
   "metadata": {},
   "outputs": [
    {
     "name": "stdout",
     "output_type": "stream",
     "text": [
      "l_pt [39.8, 49.2, 42.4, 45.2, 30.8, 60.6, 48.6, ... 38, 39.2, 43.6, 31.7, 41.1, 40.8]\n",
      "len 1522824\n",
      "l_phi [-0.88, 2.53, 2.71, -0.322, -2.07, 1.81, ... -2.21, 1.27, -2.35, 0.915, -3.03, 0.259]\n",
      "l_eta [1.97, 1.47, 1.18, 1.6, 0.369, -0.627, ... 1.23, 0.113, 1.09, -0.172, 2.02, 2.23]\n",
      "l_energy [144, 113, 76.1, 115, 32.9, 73, 79.5, 145, ... 159, 71.4, 39.6, 71.8, 32.2, 158, 192]\n",
      "r_track [0, 0, 0, 0, 0, 0, 0, 0, 0, 0, 0, 0, 0, 0, ... 0, 1, 0, 0, 0, 0, 0, 0, 0, 0, 0, 0, 0]\n",
      "e1 [(39.78707504, -0.87960351,  1.96633005, 143.87739563)\n",
      " (49.19788742,  2.52822018,  1.47334313, 113.12696075)\n",
      " (42.44467163,  2.70772266,  1.18041861,  76.07386017) ...\n",
      " (31.65058708,  0.9147613 , -0.17239177,  32.1922226 )\n",
      " (41.14505386, -3.02791071,  2.02013087, 158.0274353 )\n",
      " (40.82894135,  0.25907767,  2.22651291, 191.75566101)]\n",
      "e2 [(49.19788742,  2.52822018, 1.47334313, 113.12696075)\n",
      " (39.78707504, -0.87960351, 1.96633005, 143.87739563)\n",
      " (45.22899628, -0.32181451, 1.60066295, 115.46871948) ...\n",
      " (43.55558014, -2.34752226, 1.0864532 ,  71.84860992)\n",
      " (40.82894135,  0.25907767, 2.22651291, 191.75566101)\n",
      " (41.14505386, -3.02791071, 2.02013087, 158.0274353 )]\n"
     ]
    }
   ],
   "source": [
    "l_pt,l_eta,l_phi,l_energy,l_full,l_dxy,l_dz,l_detaseed,l_dphin,l_hlt,l_track,r_pt,r_eta,r_phi,r_energy,r_full,r_dxy,r_dz,r_detaseed,r_dphin,r_hlt,r_track=produce_pairs(electron_idtrk,electron_gsf)\n",
    "\n",
    "print(\"l_pt\",l_pt)\n",
    "print(\"len\",len(l_pt))\n",
    "print(\"l_phi\",l_phi)\n",
    "print(\"l_eta\",l_eta)\n",
    "print(\"l_energy\",l_energy)\n",
    "print(\"r_track\",r_track)\n",
    "\n",
    "    \n",
    "e1 = vector. VectorNumpy4D(\n",
    "        {\n",
    "            \"x\":l_pt,\n",
    "            \"y\":l_phi,\n",
    "            \"z\":l_eta,\n",
    "            \"t\":l_energy,\n",
    "        }\n",
    ")\n",
    "\n",
    "e2 = vector. VectorNumpy4D(\n",
    "         {\n",
    "            \"x\":r_pt,\n",
    "            \"y\":r_phi,\n",
    "            \"z\":r_eta,\n",
    "            \"t\":r_energy,\n",
    "             \n",
    "             \n",
    "             \n",
    "         }\n",
    ")\n",
    "\n",
    "print(\"e1\",e1)\n",
    "\n",
    "print(\"e2\",e2)\n",
    "\n",
    "\n",
    "zcond = e1 + e2\n",
    "\n",
    "zcondmag=zcond.mag\n",
    " \n",
    "\n",
    "\n",
    "z=[]\n",
    "i=1\n",
    "for i in range (1,len(zcondmag)):\n",
    "    if abs(zcondmag[i] - 91.19)<15:\n",
    "        z.append(abs(zcondmag[i]))\n",
    "\n",
    "        \n",
    "j=0\n",
    "sub=[]\n",
    "for j in range(len(z)):\n",
    "    x =np.array(np.where(zcondmag==z[j]))\n",
    "    sub.append(x)\n",
    "o = ak.flatten(sub)\n",
    "\n",
    "flat_list = list(itertools.chain.from_iterable(o))       \n",
    "        "
   ]
  },
  {
   "cell_type": "code",
   "execution_count": 9,
   "id": "47c8db44",
   "metadata": {},
   "outputs": [
    {
     "name": "stdout",
     "output_type": "stream",
     "text": [
      "npass 2261523\n",
      "nfail 0\n",
      "IDtrack|gsf 1.0\n"
     ]
    }
   ],
   "source": [
    "i=0\n",
    "trs=[]\n",
    "for i in range(len(flat_list)):\n",
    "    r = np.array(np.where((r_track[flat_list[i]])<=1))\n",
    "    trs.append(r)    \n",
    "    \n",
    "nf = len(trs)-len(flat_list)\n",
    "print(\"npass\",len(trs))\n",
    "print(\"nfail\",nf)\n",
    "\n",
    "effidtr = (len(trs)/(len(trs)+nf))\n",
    "print(\"IDtrack|gsf\",effidtr)"
   ]
  },
  {
   "cell_type": "code",
   "execution_count": 13,
   "id": "0b80a802",
   "metadata": {},
   "outputs": [],
   "source": [
    "def produce_pairs(electron_iboth,electron_idtrk):\n",
    "    \n",
    "    Echarge = ak.cartesian([electron_idboth[\"Electron_charge\"],electron_idtrk[\"Electron_charge\"]])\n",
    "    lefts, rights = ak.unzip(Echarge)\n",
    "    mask_Electron = lefts*rights == -1 # they must have opposite charge\n",
    "    \n",
    "    \n",
    "    # select paris of opposite charged electons\n",
    "    \n",
    "    p_pt = ak.flatten( ak.cartesian([electron_idboth[\"Electron_pt\"],electron_idtrk[\"Electron_pt\"]])[mask_Electron]) \n",
    "    p_eta = ak.flatten(ak.cartesian([electron_idboth[\"Electron_eta\"],electron_idtrk[\"Electron_eta\"]])[mask_Electron])\n",
    "    p_phi = ak.flatten(ak.cartesian([electron_idboth[\"Electron_phi\"],electron_idtrk[\"Electron_phi\"]])[mask_Electron])\n",
    "    p_energy = ak.flatten(ak.cartesian([electron_idboth[\"Electron_ecalEnergy\"],electron_idtrk[\"Electron_ecalEnergy\"]])[mask_Electron]) \n",
    "    p_full = ak.flatten(ak.cartesian([electron_idboth[\"Electron_full5x5_sigmaIetaIeta\"],electron_idtrk[\"Electron_full5x5_sigmaIetaIeta\"]])[mask_Electron])\n",
    "    p_dxy = ak.flatten(ak.cartesian([electron_idboth[\"Electron_dxyPV\"],electron_idtrk[\"Electron_dxyPV\"]])[mask_Electron])\n",
    "    p_dz = ak.flatten(ak.cartesian([electron_idboth[\"Electron_dzPV\"],electron_idtrk[\"Electron_dzPV\"]])[mask_Electron])\n",
    "    p_detaseed = ak.flatten(ak.cartesian([electron_idboth[\"Electron_dEtaInSeed\"],electron_idtrk[\"Electron_dEtaInSeed\"]])[mask_Electron])\n",
    "    p_dphin = ak.flatten(ak.cartesian([electron_idboth[\"Electron_deltaPhiSuperClusterTrackAtVtx\"],electron_idtrk[\"Electron_deltaPhiSuperClusterTrackAtVtx\"]])[mask_Electron])\n",
    "    p_hlt = ak.flatten(ak.cartesian([electron_idboth[\"Electron_triggerBits\"],electron_idtrk[\"Electron_triggerBits\"]])[mask_Electron])\n",
    "    p_track = ak.flatten(ak.cartesian([electron_idboth[\"Electron_gsfTrackMissingInnerHits\"],electron_idtrk[\"Electron_gsfTrackMissingInnerHits\"]])[mask_Electron])\n",
    "    p_hovere = ak.flatten(ak.cartesian([electron_idboth[\"Electron_hadronicOverEm\"],electron_idtrk[\"Electron_hadronicOverEm\"]])[mask_Electron])\n",
    "    p_super =  ak.flatten( ak.cartesian([electron_idboth[\"Electron_superclusterEnergy\"],electron_idtrk[\"Electron_superclusterEnergy\"]])[mask_Electron]) \n",
    "    p_esuper = ak.flatten( ak.cartesian([electron_idboth[\"Electron_eSuperClusterOverP\"],electron_idtrk[\"Electron_eSuperClusterOverP\"]])[mask_Electron])\n",
    "    #  zcandidate\n",
    "   \n",
    "    l_pt, r_pt = ak.unzip(p_pt)\n",
    "    l_eta, r_eta = ak.unzip(p_eta)\n",
    "    l_phi, r_phi = ak.unzip(p_phi)\n",
    "    l_energy, r_energy = ak.unzip(p_energy)\n",
    "    \n",
    "    # This variable is only for correlation analysis\n",
    "    l_full , r_full = ak.unzip(p_full)\n",
    "    l_dxy, r_dxy = ak.unzip(p_dxy)\n",
    "    l_dz, r_dz = ak.unzip(p_dz)\n",
    "    l_detaseed, r_detaseed = ak.unzip(p_detaseed)\n",
    "    l_dphin, r_dphin = ak.unzip(p_dphin)  \n",
    "    l_hlt , r_hlt = ak.unzip(p_hlt)  \n",
    "    l_track , r_track = ak.unzip(p_track)\n",
    "    l_hover , r_hover = ak.unzip(p_hovere) \n",
    "    l_super , r_super = ak.unzip(p_super)\n",
    "    l_esuper , r_esuper = ak.unzip(p_esuper)\n",
    "    \n",
    "    return l_pt,l_eta,l_phi,l_energy,l_full,l_dxy,l_dz,l_detaseed,l_dphin,l_hlt,l_track,l_hover,l_super,l_esuper,r_pt,r_eta,r_phi,r_energy,r_full,r_dxy,r_dz,r_detaseed,r_dphin,r_hlt,r_track,r_hover,r_super,r_esuper\n"
   ]
  },
  {
   "cell_type": "code",
   "execution_count": 14,
   "id": "359aa553",
   "metadata": {},
   "outputs": [
    {
     "name": "stdout",
     "output_type": "stream",
     "text": [
      "l_pt [39.8, 49.2, 42.4, 30.8, 60.6, 48.6, 35.3, ... 38, 39.2, 43.6, 31.7, 41.1, 40.8]\n",
      "len 1394442\n",
      "l_phi [-0.88, 2.53, 2.71, -2.07, 1.81, 0.96, ... -2.21, 1.27, -2.35, 0.915, -3.03, 0.259]\n",
      "l_eta [1.97, 1.47, 1.18, 0.369, -0.627, 1.1, ... 1.23, 0.113, 1.09, -0.172, 2.02, 2.23]\n",
      "l_energy [144, 113, 76.1, 32.9, 73, 79.5, 145, ... 98.4, 71.4, 39.6, 71.8, 32.2, 158, 192]\n",
      "r_track [0, 0, 0, 0, 0, 0, 0, 0, 0, 0, 0, 0, 0, 0, ... 0, 0, 1, 0, 0, 0, 0, 0, 0, 0, 0, 0, 0]\n",
      "r_hover [0.0135, 0.0146, 0.0211, 0.0542, 0, 0.0565, ... 0, 0.023, 0.0152, 0, 0.0065, 0.0111]\n",
      "e1 [(39.78707504, -0.87960351,  1.96633005, 143.87739563)\n",
      " (49.19788742,  2.52822018,  1.47334313, 113.12696075)\n",
      " (42.44467163,  2.70772266,  1.18041861,  76.07386017) ...\n",
      " (31.65058708,  0.9147613 , -0.17239177,  32.1922226 )\n",
      " (41.14505386, -3.02791071,  2.02013087, 158.0274353 )\n",
      " (40.82894135,  0.25907767,  2.22651291, 191.75566101)]\n",
      "e2 [(49.19788742,  2.52822018, 1.47334313, 113.12696075)\n",
      " (39.78707504, -0.87960351, 1.96633005, 143.87739563)\n",
      " (45.22899628, -0.32181451, 1.60066295, 115.46871948) ...\n",
      " (43.55558014, -2.34752226, 1.0864532 ,  71.84860992)\n",
      " (40.82894135,  0.25907767, 2.22651291, 191.75566101)\n",
      " (41.14505386, -3.02791071, 2.02013087, 158.0274353 )]\n"
     ]
    }
   ],
   "source": [
    "l_pt,l_eta,l_phi,l_energy,l_full,l_dxy,l_dz,l_detaseed,l_dphin,l_hlt,l_track,l_hover,l_super,l_esuper,r_pt,r_eta,r_phi,r_energy,r_full,r_dxy,r_dz,r_detaseed,r_dphin,r_hlt,r_track,r_hover,r_super,r_esuper=produce_pairs(electron_idboth,electron_idtrk)\n",
    "\n",
    "print(\"l_pt\",l_pt)\n",
    "print(\"len\",len(l_pt))\n",
    "print(\"l_phi\",l_phi)\n",
    "print(\"l_eta\",l_eta)\n",
    "print(\"l_energy\",l_energy)\n",
    "print(\"r_track\",r_track)\n",
    "print(\"r_hover\",r_hover)\n",
    "    \n",
    "e1 = vector. VectorNumpy4D(\n",
    "        {\n",
    "            \"x\":l_pt,\n",
    "            \"y\":l_phi,\n",
    "            \"z\":l_eta,\n",
    "            \"t\":l_energy,\n",
    "        }\n",
    ")\n",
    "\n",
    "e2 = vector. VectorNumpy4D(\n",
    "         {\n",
    "            \"x\":r_pt,\n",
    "            \"y\":r_phi,\n",
    "            \"z\":r_eta,\n",
    "            \"t\":r_energy,\n",
    "             \n",
    "             \n",
    "             \n",
    "         }\n",
    ")\n",
    "\n",
    "print(\"e1\",e1)\n",
    "\n",
    "print(\"e2\",e2)\n",
    "\n",
    "\n",
    "zcond = e1 + e2\n",
    "\n",
    "zcondmag=zcond.mag\n",
    " \n",
    "\n",
    "\n",
    "z=[]\n",
    "i=1\n",
    "for i in range (1,len(zcondmag)):\n",
    "    if abs(zcondmag[i] - 91.19)<15:\n",
    "        z.append(abs(zcondmag[i]))\n",
    "\n",
    "        \n",
    "j=0\n",
    "sub=[]\n",
    "for j in range(len(z)):\n",
    "    x =np.array(np.where(zcondmag==z[j]))\n",
    "    sub.append(x)\n",
    "o = ak.flatten(sub)\n",
    "\n",
    "flat_list = list(itertools.chain.from_iterable(o))       \n",
    "        "
   ]
  },
  {
   "cell_type": "code",
   "execution_count": 14,
   "id": "e895e700",
   "metadata": {},
   "outputs": [
    {
     "name": "stdout",
     "output_type": "stream",
     "text": [
      "Npass 691442\n",
      "Nfail 676760\n",
      "IDcal|trk 0.5053654358055316\n"
     ]
    }
   ],
   "source": [
    "ii=0\n",
    "trss=[]\n",
    "for ii in range(len(flat_list)):\n",
    "    if(((r_full[flat_list[ii]])<0.0106) & ((r_hover[flat_list[ii]])<(0.046+(1.16/r_super[flat_list[ii]])))):\n",
    "        trss.append(flat_list[ii])    \n",
    "    \n",
    "    \n",
    "nfa = len(flat_list)-len(trss)\n",
    "print(\"Npass\",len(trss))\n",
    "print(\"Nfail\",nfa)\n",
    "\n",
    "effidcal = (len(trss)/(len(trss)+nfa))\n",
    "print(\"IDcal|trk\",effidcal)"
   ]
  },
  {
   "cell_type": "code",
   "execution_count": 18,
   "id": "f6e930c7",
   "metadata": {},
   "outputs": [
    {
     "name": "stdout",
     "output_type": "stream",
     "text": [
      "Npass 1956409\n",
      "Nfail 42455\n",
      "IDboth|trk 0.9787604359276069\n"
     ]
    }
   ],
   "source": [
    "s=0\n",
    "tr=[]\n",
    "for s in range(len(flat_list)):\n",
    "    if(((r_dphin[flat_list[s]])<0.0547) & ((r_detaseed[flat_list[s]])<0.0032) & (((1.0-r_esuper[flat_list[s]])/(r_energy[flat_list[s]]))<0.184)):\n",
    "        tr.append(flat_list[s])    \n",
    "    \n",
    "    \n",
    "nfaa = len(flat_list)-len(tr)\n",
    "print(\"Npass\",len(tr))\n",
    "print(\"Nfail\",nfaa)\n",
    "\n",
    "effidbo = (len(tr)/(len(tr)+nfaa))\n",
    "print(\"IDboth|trk\",effidbo)"
   ]
  },
  {
   "cell_type": "code",
   "execution_count": 5,
   "id": "e60019b7",
   "metadata": {},
   "outputs": [],
   "source": [
    "# data with id both\n",
    "\n",
    "electron_idboth = data.arrays([\"Electron_pt\",\"Electron_eta\",\"Electron_dxyPV\",\"Electron_dEtaInSeed\",\"Electron_deltaPhiSuperClusterTrackAtVtx\",\"Electron_superclusterEnergy\",\n",
    "                         \"Electron_dzPV\",\"Electron_hadronicOverEm\",\"Electron_eSuperClusterOverP\",\"Electron_phi\",\"Electron_charge\",\"Electron_ecalEnergy\",\"Electron_triggerBits\",\"Electron_full5x5_sigmaIetaIeta\",\"Electron_gsfTrackMissingInnerHits\"]\n",
    ",\"(Electron_pt>30)&(abs(Electron_eta)<2.5)&(abs(Electron_deltaPhiSuperClusterTrackAtVtx)<0.0547)&(abs(Electron_dEtaInSeed)<0.0032)&(abs((1.0-Electron_eSuperClusterOverP)/(Electron_ecalEnergy))<0.184)&(decayMode==11)\")"
   ]
  },
  {
   "cell_type": "code",
   "execution_count": 11,
   "id": "ae7ec734",
   "metadata": {},
   "outputs": [],
   "source": [
    "def produce_pairs(electron_idcal,electron_idboth):\n",
    "    \n",
    "    Echarge = ak.cartesian([electron_idcal[\"Electron_charge\"],electron_idboth[\"Electron_charge\"]])\n",
    "    lefts, rights = ak.unzip(Echarge)\n",
    "    mask_Electron = lefts*rights == -1 # they must have opposite charge\n",
    "    \n",
    "    \n",
    "    # select paris of opposite charged electons\n",
    "    \n",
    "    p_pt = ak.flatten( ak.cartesian([electron_idcal[\"Electron_pt\"],electron_idboth[\"Electron_pt\"]])[mask_Electron]) \n",
    "    p_eta = ak.flatten(ak.cartesian([electron_idcal[\"Electron_eta\"],electron_idboth[\"Electron_eta\"]])[mask_Electron])\n",
    "    p_phi = ak.flatten(ak.cartesian([electron_idcal[\"Electron_phi\"],electron_idboth[\"Electron_phi\"]])[mask_Electron])\n",
    "    p_energy = ak.flatten(ak.cartesian([electron_idcal[\"Electron_ecalEnergy\"],electron_idboth[\"Electron_ecalEnergy\"]])[mask_Electron]) \n",
    "    p_full = ak.flatten(ak.cartesian([electron_idcal[\"Electron_full5x5_sigmaIetaIeta\"],electron_idboth[\"Electron_full5x5_sigmaIetaIeta\"]])[mask_Electron])\n",
    "    p_dxy = ak.flatten(ak.cartesian([electron_idcal[\"Electron_dxyPV\"],electron_idboth[\"Electron_dxyPV\"]])[mask_Electron])\n",
    "    p_dz = ak.flatten(ak.cartesian([electron_idcal[\"Electron_dzPV\"],electron_idboth[\"Electron_dzPV\"]])[mask_Electron])\n",
    "    p_detaseed = ak.flatten(ak.cartesian([electron_idcal[\"Electron_dEtaInSeed\"],electron_idboth[\"Electron_dEtaInSeed\"]])[mask_Electron])\n",
    "    p_dphin = ak.flatten(ak.cartesian([electron_idcal[\"Electron_deltaPhiSuperClusterTrackAtVtx\"],electron_idboth[\"Electron_deltaPhiSuperClusterTrackAtVtx\"]])[mask_Electron])\n",
    "    p_hlt = ak.flatten(ak.cartesian([electron_idcal[\"Electron_triggerBits\"],electron_idboth[\"Electron_triggerBits\"]])[mask_Electron])\n",
    "    p_track = ak.flatten(ak.cartesian([electron_idcal[\"Electron_gsfTrackMissingInnerHits\"],electron_idboth[\"Electron_gsfTrackMissingInnerHits\"]])[mask_Electron])\n",
    "    p_hovere = ak.flatten(ak.cartesian([electron_idcal[\"Electron_hadronicOverEm\"],electron_idboth[\"Electron_hadronicOverEm\"]])[mask_Electron])\n",
    "    p_super =  ak.flatten( ak.cartesian([electron_idcal[\"Electron_superclusterEnergy\"],electron_idboth[\"Electron_superclusterEnergy\"]])[mask_Electron]) \n",
    "    p_esuper = ak.flatten( ak.cartesian([electron_idcal[\"Electron_eSuperClusterOverP\"],electron_idboth[\"Electron_eSuperClusterOverP\"]])[mask_Electron])\n",
    "    \n",
    "    #  zcandidate\n",
    "   \n",
    "    l_pt, r_pt = ak.unzip(p_pt)\n",
    "    l_eta, r_eta = ak.unzip(p_eta)\n",
    "    l_phi, r_phi = ak.unzip(p_phi)\n",
    "    l_energy, r_energy = ak.unzip(p_energy)\n",
    "    \n",
    "    # This variable is only for correlation analysis\n",
    "    l_full , r_full = ak.unzip(p_full)\n",
    "    l_dxy, r_dxy = ak.unzip(p_dxy)\n",
    "    l_dz, r_dz = ak.unzip(p_dz)\n",
    "    l_detaseed, r_detaseed = ak.unzip(p_detaseed)\n",
    "    l_dphin, r_dphin = ak.unzip(p_dphin)  \n",
    "    l_hlt , r_hlt = ak.unzip(p_hlt)  \n",
    "    l_track , r_track = ak.unzip(p_track)\n",
    "    l_hovere , r_hovere = ak.unzip(p_hovere) \n",
    "    l_super , r_super = ak.unzip(p_super)\n",
    "    l_esuper , r_esuper = ak.unzip(p_esuper)\n",
    "    \n",
    "    return l_pt,l_eta,l_phi,l_energy,l_full,l_dxy,l_dz,l_detaseed,l_dphin,l_hlt,l_track,l_hovere,l_super,l_esuper,r_pt,r_eta,r_phi,r_energy,r_full,r_dxy,r_dz,r_detaseed,r_dphin,r_hlt,r_track,r_hovere,r_super,r_esuper\n"
   ]
  },
  {
   "cell_type": "code",
   "execution_count": 12,
   "id": "f432deac",
   "metadata": {},
   "outputs": [
    {
     "name": "stdout",
     "output_type": "stream",
     "text": [
      "l_pt [49.2, 30.8, 60.6, 48.6, 36.9, 54.3, 46.2, ... 34.3, 34.1, 38, 39.2, 43.6, 31.7]\n",
      "len 960287\n",
      "l_phi [2.53, -2.07, 1.81, 0.96, 0.0229, 1.32, ... 2.21, -0.749, -2.21, 1.27, -2.35, 0.915]\n",
      "l_eta [1.47, 0.369, -0.627, 1.1, -0.111, 1.02, ... 0.404, -1.19, 1.23, 0.113, 1.09, -0.172]\n",
      "l_energy [113, 32.9, 73, 79.5, 36.9, 84.8, 95, ... 46.3, 36.5, 60.2, 71.4, 39.6, 71.8, 32.2]\n",
      "r_track [0, 0, 0, 0, 0, 0, 0, 0, 0, 0, 0, 0, 0, 0, ... 0, 0, 0, 0, 0, 1, 0, 0, 0, 0, 0, 0, 0]\n",
      "r_hover [0.0146, 0.0542, 0, 0.0565, 0.000924, 0.0104, 0, ... 0, 0.00699, 0, 0.023, 0.0152, 0]\n",
      "e1 [(49.19788742,  2.52822018,  1.47334313, 113.12696075)\n",
      " (30.83180618, -2.07312012,  0.36901924,  32.86407089)\n",
      " (60.64469528,  1.81405818, -0.62652272,  73.03495026) ...\n",
      " (39.20230865,  1.26640344,  0.11266815,  39.64342117)\n",
      " (43.55558014, -2.34752226,  1.0864532 ,  71.84860992)\n",
      " (31.65058708,  0.9147613 , -0.17239177,  32.1922226 )]\n",
      "e2 [(39.78707504, -0.87960351,  1.96633005, 143.87739563)\n",
      " (60.64469528,  1.81405818, -0.62652272,  73.03495026)\n",
      " (30.83180618, -2.07312012,  0.36901924,  32.86407089) ...\n",
      " (38.01390457, -2.2094295 ,  1.22528362,  71.39241028)\n",
      " (31.65058708,  0.9147613 , -0.17239177,  32.1922226 )\n",
      " (43.55558014, -2.34752226,  1.0864532 ,  71.84860992)]\n"
     ]
    }
   ],
   "source": [
    "l_pt,l_eta,l_phi,l_energy,l_full,l_dxy,l_dz,l_detaseed,l_dphin,l_hlt,l_track,l_hovere,l_super,l_esuper,r_pt,r_eta,r_phi,r_energy,r_full,r_dxy,r_dz,r_detaseed,r_dphin,r_hlt,r_track,r_hovere,r_super,r_esuper=produce_pairs(electron_idcal,electron_idboth)\n",
    "\n",
    "print(\"l_pt\",l_pt)\n",
    "print(\"len\",len(l_pt))\n",
    "print(\"l_phi\",l_phi)\n",
    "print(\"l_eta\",l_eta)\n",
    "print(\"l_energy\",l_energy)\n",
    "print(\"r_track\",r_track)\n",
    "print(\"r_hover\",r_hovere)\n",
    "    \n",
    "e1 = vector. VectorNumpy4D(\n",
    "        {\n",
    "            \"x\":l_pt,\n",
    "            \"y\":l_phi,\n",
    "            \"z\":l_eta,\n",
    "            \"t\":l_energy,\n",
    "        }\n",
    ")\n",
    "\n",
    "e2 = vector. VectorNumpy4D(\n",
    "         {\n",
    "            \"x\":r_pt,\n",
    "            \"y\":r_phi,\n",
    "            \"z\":r_eta,\n",
    "            \"t\":r_energy,\n",
    "             \n",
    "             \n",
    "             \n",
    "         }\n",
    ")\n",
    "\n",
    "print(\"e1\",e1)\n",
    "\n",
    "print(\"e2\",e2)\n",
    "\n",
    "\n",
    "zcond = e1 + e2\n",
    "\n",
    "zcondmag=zcond.mag\n",
    " \n",
    "\n",
    "\n",
    "z=[]\n",
    "i=1\n",
    "for i in range (1,len(zcondmag)):\n",
    "    if abs(zcondmag[i] - 91.19)<15:\n",
    "        z.append(abs(zcondmag[i]))\n",
    "\n",
    "        \n",
    "j=0\n",
    "sub=[]\n",
    "for j in range(len(z)):\n",
    "    x =np.array(np.where(zcondmag==z[j]))\n",
    "    sub.append(x)\n",
    "o = ak.flatten(sub)\n",
    "\n",
    "flat_list = list(itertools.chain.from_iterable(o))       \n",
    "        "
   ]
  },
  {
   "cell_type": "code",
   "execution_count": 13,
   "id": "93883201",
   "metadata": {},
   "outputs": [
    {
     "name": "stdout",
     "output_type": "stream",
     "text": [
      "Npass 1171499\n",
      "Nfail 120757\n",
      "IDboth|cal 0.906553345467152\n"
     ]
    }
   ],
   "source": [
    "iii=0\n",
    "trsss=[]\n",
    "for iii in range(len(flat_list)):\n",
    "    if(((r_full[flat_list[iii]])<0.0106) & ((r_hovere[flat_list[iii]])<(0.046+(1.16/(r_super[flat_list[iii]]))<0.184))):\n",
    "        trsss.append(flat_list[iii])    \n",
    "    \n",
    "    \n",
    "nfa = len(flat_list)-len(trsss)\n",
    "print(\"Npass\",len(trsss))\n",
    "print(\"Nfail\",nfa)\n",
    "\n",
    "effidboth= (len(trsss)/(len(trsss)+nfa))\n",
    "print(\"IDboth|cal\",effidboth)\n"
   ]
  },
  {
   "cell_type": "code",
   "execution_count": null,
   "id": "b3ea4d24",
   "metadata": {},
   "outputs": [],
   "source": [
    " 0.906553345467152"
   ]
  },
  {
   "cell_type": "code",
   "execution_count": 4,
   "id": "42ebf0e5",
   "metadata": {},
   "outputs": [],
   "source": [
    "eventId = data.arrays([\"eventNumber\"])\n",
    "nPileup = data.arrays([\"nPU\"])\n",
    "nVertex = data.arrays([\"nPV\"])"
   ]
  },
  {
   "cell_type": "code",
   "execution_count": 5,
   "id": "e93c9689",
   "metadata": {},
   "outputs": [
    {
     "name": "stdout",
     "output_type": "stream",
     "text": [
      "npv [11, 21, 19, 19, 4, 30, 41, 48, 13, 19, ..., 9, 48, 12, 20, 4, 34, 3, 36, 31]\n",
      "381221\n",
      "npu [19, 24, 27, 31, 6, 41, 59, 65, 10, 22, ..., 8, 63, 13, 27, 4, 51, 3, 40, 52]\n",
      "pu 381221\n",
      "nenv [4609577, 4609632, 4609731, 4609729, ..., 5984959, 5985064, 5985167, 5985203]\n",
      "leneven 381221\n",
      "l_pt [30.8, 54.3, 45.8, 48.2, 43.3, 33.4, ..., 86.1, 44.6, 43.9, 34.3, 38, 43.6]\n",
      "len 381221\n",
      "l_phi [-2.07, 1.32, 1.74, 0.235, 1.8, 2.34, ..., -1.03, -0.104, 2.21, -2.21, -2.35]\n",
      "l_eta [0.369, 1.02, -0.306, -0.124, 0.836, 0.169, ..., 1.18, 0.215, 0.404, 1.23, 1.09]\n",
      "l_energy [32.9, 84.8, 47.9, 48.6, 59.8, 33.9, ..., 90.6, 79.8, 44.9, 36.5, 71.4, 71.8]\n",
      "l_hlt [1, 3, 3, 3, 3, 0, 3, 3, 3, 3, 3, 3, 3, ..., 0, 0, 3, 3, 0, 3, 0, 3, 3, 1, 3, 3]\n",
      "g <class 'awkward.highlevel.Array'>\n",
      "r_pt [60.6, 46.2, 43.6, 43.5, 42.3, 34.3, 42, ..., 158, 45.1, 45.7, 34.1, 39.2, 31.7]\n",
      "r_phi [1.81, -2.17, -1.6, -2.62, -1.11, -0.731, ..., 2.13, 3.06, -0.749, 1.27, 0.915]\n",
      "r_eta [-0.627, 1.37, -0.373, -0.103, 1.41, ..., 1.38, -0.0871, -1.19, 0.113, -0.172]\n",
      "r_energy [73, 95, 46.7, 43.6, 92, 77.4, 76.7, ..., 173, 95.2, 46.3, 60.2, 39.6, 32.2]\n",
      "r_hlt [0, 3, 3, 3, 3, 1, 3, 3, 3, 3, 3, 0, 0, ..., 3, 3, 0, 1, 0, 0, 3, 0, 3, 3, 3, 1]\n"
     ]
    }
   ],
   "source": [
    "import vector\n",
    "vector.register_awkward()\n",
    "myElectron = ak.zip({\n",
    "        \"pt\" : electron_kine[\"Electron_pt\"],\n",
    "        \"eta\" :electron_kine[\"Electron_eta\"],\n",
    "        \"phi\" : electron_kine[\"Electron_phi\"],\n",
    "        \"energy\" : electron_kine[\"Electron_ecalEnergy\"],\n",
    "}, with_name=\"Momentum4D\")\n",
    "pairs = ak.combinations(myElectron, 2)\n",
    "e1, e2 = ak.unzip(pairs)\n",
    "zmass = abs((e1+e2).mass - 91)\n",
    "myEvent = ak.zip({\n",
    "        \"Id\": eventId[\"eventNumber\"],\n",
    "        \"charge\": ak.combinations(electron_kine[\"Electron_charge\"],2),\n",
    "        \"pt\" : ak.combinations(electron_kine[\"Electron_pt\"],2),\n",
    "        \"eta\" :ak.combinations(electron_kine[\"Electron_eta\"],2),\n",
    "        \"phi\" : ak.combinations(electron_kine[\"Electron_phi\"],2),\n",
    "        \"energy\" : ak.combinations(electron_kine[\"Electron_ecalEnergy\"],2),\n",
    "        \"full\" : ak.combinations(electron_kine[\"Electron_full5x5_sigmaIetaIeta\"],2),\n",
    "        \"dxy\" : ak.combinations(electron_kine[\"Electron_dxyPV\"],2),\n",
    "        \"dz\" : ak.combinations(electron_kine[\"Electron_dzPV\"],2),\n",
    "        \"detaseed\" : ak.combinations(electron_kine[\"Electron_dEtaInSeed\"],2),\n",
    "        \"dphin\" : ak.combinations(electron_kine[\"Electron_deltaPhiSuperClusterTrackAtVtx\"],2),\n",
    "        \"hlt\" : ak.combinations(electron_kine[\"Electron_triggerBits\"],2),\n",
    "        \"Zmass\" : zmass,\n",
    "        \"nPu\" : nPileup[\"nPU\"],\n",
    "        \"nPv\" : nVertex[\"nPV\"],\n",
    "    }, with_name=\"myInfo\")\n",
    "lefts, rights = ak.unzip(myEvent.charge)\n",
    "mask_Electron = lefts*rights == -1\n",
    "selEvent = ak.flatten(myEvent[mask_Electron])\n",
    "#selEvent = selEvent[selEvent.Zmass < 15]\n",
    "l_pt, r_pt = ak.unzip(selEvent[\"pt\"])\n",
    "l_eta, r_eta = ak.unzip(selEvent[\"eta\"])\n",
    "l_phi, r_phi = ak.unzip(selEvent[\"phi\"])\n",
    "l_energy, r_energy = ak.unzip(selEvent[\"energy\"])\n",
    "l_hlt, r_hlt = ak.unzip(selEvent[\"hlt\"])\n",
    "\n",
    "c = selEvent[\"nPu\"]\n",
    "d = selEvent[\"nPv\"]\n",
    "h = selEvent[\"Id\"]\n",
    "print(\"npv\",selEvent[\"nPv\"])\n",
    "print(len(selEvent[\"nPv\"]))\n",
    "print(\"npu\",selEvent[\"nPu\"])\n",
    "print(\"pu\",len(selEvent[\"nPu\"]))\n",
    "print(\"nenv\",selEvent[\"Id\"])\n",
    "print(\"leneven\",len(selEvent[\"Id\"]))\n",
    "print(\"l_pt\",l_pt)\n",
    "print(\"len\",len(l_pt))\n",
    "print(\"l_phi\",l_phi)\n",
    "print(\"l_eta\",l_eta)\n",
    "print(\"l_energy\",l_energy)\n",
    "print(\"l_hlt\",l_hlt)\n",
    "print(\"g\",type(l_hlt))\n",
    "\n",
    "print(\"r_pt\",r_pt)\n",
    "print(\"r_phi\",r_phi)\n",
    "print(\"r_eta\",r_eta)\n",
    "print(\"r_energy\",r_energy)\n",
    "print(\"r_hlt\",r_hlt)"
   ]
  },
  {
   "cell_type": "code",
   "execution_count": 6,
   "id": "b8a8d124",
   "metadata": {},
   "outputs": [
    {
     "name": "stdout",
     "output_type": "stream",
     "text": [
      "e1 [(30.83180618, -2.07312012,  0.36901924, 32.86407089)\n",
      " (54.31041718,  1.31638587,  1.01585555, 84.82146454)\n",
      " (45.7538147 ,  1.73914886, -0.30571547, 47.93672562) ...\n",
      " (34.26221085,  2.21454835,  0.40363538, 36.5418663 )\n",
      " (38.01390457, -2.2094295 ,  1.22528362, 71.39241028)\n",
      " (43.55558014, -2.34752226,  1.0864532 , 71.84860992)]\n",
      "e2 [(60.64469528,  1.81405818, -0.62652272, 73.03495026)\n",
      " (46.17772293, -2.1742239 ,  1.36547613, 94.96786499)\n",
      " (43.59855652, -1.6001842 , -0.37348947, 46.7034111 ) ...\n",
      " (34.06383133, -0.7490496 , -1.19431198, 60.17060852)\n",
      " (39.20230865,  1.26640344,  0.11266815, 39.64342117)\n",
      " (31.65058708,  0.9147613 , -0.17239177, 32.1922226 )]\n",
      "lene1 381221\n",
      "zcond [( 91.47650146, -0.25906193, -0.25750348, 105.89902115)\n",
      " (100.48814011, -0.85783803,  2.38133168, 179.78932953)\n",
      " ( 89.35237122,  0.13896465, -0.67920494,  94.64013672) ...\n",
      " ( 68.32604218,  1.46549875, -0.79067659,  96.71247482)\n",
      " ( 77.21621323, -0.94302607,  1.33795177, 111.03583145)\n",
      " ( 75.20616722, -1.43276095,  0.91406143, 104.04083252)]\n",
      "zcondmag [ 91.47723073 100.52001258  89.3550607  ...  68.34633052  77.23356135\n",
      "  75.2253674 ]\n",
      "N 297894\n",
      "nn 381221\n"
     ]
    },
    {
     "data": {
      "text/plain": [
       "<matplotlib.legend.Legend at 0x7f00edb4bd10>"
      ]
     },
     "execution_count": 6,
     "metadata": {},
     "output_type": "execute_result"
    },
    {
     "data": {
      "image/png": "[encoded data removed]",
      "text/plain": [
       "<Figure size 432x288 with 1 Axes>"
      ]
     },
     "metadata": {
      "needs_background": "light"
     },
     "output_type": "display_data"
    }
   ],
   "source": [
    "e1 = vector. VectorNumpy4D(\n",
    "        {\n",
    "            \"x\":l_pt,\n",
    "            \"y\":l_phi,\n",
    "            \"z\":l_eta,\n",
    "            \"t\":l_energy,\n",
    "        }\n",
    ")\n",
    "\n",
    "e2 = vector. VectorNumpy4D(\n",
    "         {\n",
    "            \"x\":r_pt,\n",
    "            \"y\":r_phi,\n",
    "            \"z\":r_eta,\n",
    "            \"t\":r_energy,\n",
    "             \n",
    "             \n",
    "             \n",
    "         }\n",
    ")\n",
    "print(\"e1\",e1)\n",
    "\n",
    "print(\"e2\",e2)\n",
    "\n",
    "print(\"lene1\",len(e1))\n",
    "\n",
    "zcond = e1 + e2\n",
    "\n",
    "zcondmag=zcond.mag\n",
    " \n",
    "\n",
    "print(\"zcond\",zcond)\n",
    "\n",
    "print(\"zcondmag\",zcondmag)\n",
    "\n",
    "z=[]\n",
    "i=1\n",
    "for i in range (1,len(zcondmag)):\n",
    "    if abs(zcondmag[i] - 91.19)<15:\n",
    "        z.append(abs(zcondmag[i]))\n",
    "\n",
    "print(\"N\",len(z))\n",
    "print(\"nn\",len(zcondmag))\n",
    "\n",
    "\n",
    "plt.hist(z, range=(74,120), bins=100, color='red',label=\"z boson candidate , pt > 30, |eta| < 2.5\")\n",
    "plt.hist(zcondmag, range=(74,120), bins=100,color='blue',histtype=\"step\",label=\"z boson , pt > 30, |eta| < 2.5\")\n",
    "\n",
    "\n",
    "plt.xlabel(\"$m_(e^+ e^-)$\")\n",
    "plt.ylabel(\"Events\")\n",
    "plt.legend(loc=1,fontsize=8)"
   ]
  },
  {
   "cell_type": "code",
   "execution_count": 17,
   "id": "eeb1a0bc",
   "metadata": {},
   "outputs": [],
   "source": [
    "import itertools\n",
    "j=0\n",
    "sub=[]\n",
    "for j in range(len(z)):\n",
    "    x =np.array(np.where(zcondmag==z[j]))\n",
    "    sub.append(x)\n",
    "o = ak.flatten(sub)\n",
    "flat_list = list(itertools.chain.from_iterable(o))\n",
    "\n",
    "\n",
    "i=0\n",
    "pu=[]\n",
    "for i in range(len(flat_list)):\n",
    "    r = c[flat_list[i]]\n",
    "    pu.append(r)\n",
    "        \n",
    "\n",
    "\n",
    "k=0\n",
    "pv=[]\n",
    "for k in range(len(flat_list)):\n",
    "    rr = d[flat_list[k]]\n",
    "    pv.append(rr)\n",
    "\n"
   ]
  },
  {
   "cell_type": "code",
   "execution_count": 8,
   "id": "e2545d37",
   "metadata": {
    "scrolled": true
   },
   "outputs": [
    {
     "data": {
      "text/plain": [
       "<matplotlib.legend.Legend at 0x7f6da6eae6d0>"
      ]
     },
     "execution_count": 8,
     "metadata": {},
     "output_type": "execute_result"
    },
    {
     "data": {
      "image/png": "[encoded data removed]",
      "text/plain": [
       "<Figure size 432x288 with 1 Axes>"
      ]
     },
     "metadata": {
      "needs_background": "light"
     },
     "output_type": "display_data"
    }
   ],
   "source": [
    "plt.hist(pv,bins=range(0,100,2),histtype=\"step\", label=\"npv\")\n",
    "plt.legend()"
   ]
  },
  {
   "cell_type": "code",
   "execution_count": 9,
   "id": "d733a006",
   "metadata": {},
   "outputs": [
    {
     "data": {
      "text/plain": [
       "<matplotlib.legend.Legend at 0x7f6d85806a00>"
      ]
     },
     "execution_count": 9,
     "metadata": {},
     "output_type": "execute_result"
    },
    {
     "data": {
      "image/png": "[encoded data removed]",
      "text/plain": [
       "<Figure size 432x288 with 1 Axes>"
      ]
     },
     "metadata": {
      "needs_background": "light"
     },
     "output_type": "display_data"
    }
   ],
   "source": [
    "plt.hist(pu,bins=range(0,100,2),histtype=\"step\",label=\"npu\")\n",
    "plt.legend()\n"
   ]
  },
  {
   "cell_type": "code",
   "execution_count": null,
   "id": "f3b42c58",
   "metadata": {},
   "outputs": [],
   "source": [
    "trigger = vector.VectorNumpy2D(\n",
    "              {\n",
    "                  \"x\":l_hlt,\n",
    "                  \"y\":r_hlt,\n",
    "              }\n",
    "\n",
    ")\n",
    "print(\"trigger\",trigger)\n",
    "\n",
    "i=0\n",
    "H=[]\n",
    "for i in range(len(flat_list)):\n",
    "    r = trigger[flat_list[i]]\n",
    "    H.append(r)\n",
    "print(\"H\",H[5]) \n",
    "print(H[5].rho)\n",
    "print(len(H))"
   ]
  },
  {
   "cell_type": "code",
   "execution_count": 11,
   "id": "a02cd768",
   "metadata": {},
   "outputs": [],
   "source": [
    "ii=0\n",
    "two_fail=[]\n",
    "non=[]\n",
    "for ii in range(len(H)):\n",
    "    if(H[ii] == vector.obj(x=0,y=0)):\n",
    "        non.append(ii)\n",
    "        two_fail.append(H[ii])"
   ]
  },
  {
   "cell_type": "code",
   "execution_count": 12,
   "id": "a859edca",
   "metadata": {},
   "outputs": [
    {
     "data": {
      "text/plain": [
       "Text(0, 0.5, 'N0')"
      ]
     },
     "execution_count": 12,
     "metadata": {},
     "output_type": "execute_result"
    },
    {
     "data": {
      "image/png": "[encoded data removed]",
      "text/plain": [
       "<Figure size 432x288 with 1 Axes>"
      ]
     },
     "metadata": {
      "needs_background": "light"
     },
     "output_type": "display_data"
    }
   ],
   "source": [
    "ff=0\n",
    "npu0=[]\n",
    "for ff in range(len(non)):\n",
    "    yy = pu[non[ff]]\n",
    "    npu0.append(yy)\n",
    "    \n",
    "    \n",
    "bins=[]\n",
    "i=0\n",
    "for i in range(0,100):\n",
    "    c=i-0.5\n",
    "    bins.append(c) \n",
    "    \n",
    "graph5,bins = np.histogram(npu0,bins)\n",
    "plt.hist(npu0,bins,histtype=\"step\")\n",
    "plt.title(\"number of pileup for two_fail\")\n",
    "plt.xlabel(\"npu0\",fontweight='bold')\n",
    "plt.ylabel(\"N0\",fontweight='bold')\n"
   ]
  },
  {
   "cell_type": "code",
   "execution_count": 13,
   "id": "cfd2390e",
   "metadata": {},
   "outputs": [
    {
     "data": {
      "text/plain": [
       "Text(0, 0.5, 'N0')"
      ]
     },
     "execution_count": 13,
     "metadata": {},
     "output_type": "execute_result"
    },
    {
     "data": {
      "image/png": "[encoded data removed]",
      "text/plain": [
       "<Figure size 432x288 with 1 Axes>"
      ]
     },
     "metadata": {
      "needs_background": "light"
     },
     "output_type": "display_data"
    }
   ],
   "source": [
    "fff=0\n",
    "npv0=[]\n",
    "for fff in range(len(non)):\n",
    "    yyy = pv[non[fff]]\n",
    "    npv0.append(yyy)\n",
    "    \n",
    "    \n",
    "bins=[]\n",
    "i=0\n",
    "for i in range(0,100):\n",
    "    c=i-0.5\n",
    "    bins.append(c) \n",
    "    \n",
    "graph6,bins = np.histogram(npv0,bins)\n",
    "plt.hist(npv0,bins,histtype=\"step\")\n",
    "plt.title(\"number of pvertex for two_fail\")\n",
    "plt.xlabel(\"npv0\",fontweight='bold')\n",
    "plt.ylabel(\"N0\",fontweight='bold')\n"
   ]
  },
  {
   "cell_type": "code",
   "execution_count": 14,
   "id": "ae0f84f3",
   "metadata": {},
   "outputs": [],
   "source": [
    "j=0\n",
    "one_pass=[]\n",
    "suu=[]\n",
    "for j in range(len(H)):\n",
    "    if((H[j]==vector.obj(x=0,y=1)) or(H[j]==vector.obj(x=1,y=0)) or (H[j]==vector.obj(x=0,y=3)) or (H[j]==vector.obj(x=3,y=0))):\n",
    "        suu.append(j)\n",
    "        one_pass.append(H[j])\n",
    "        "
   ]
  },
  {
   "cell_type": "code",
   "execution_count": 15,
   "id": "cc0f18bc",
   "metadata": {},
   "outputs": [
    {
     "data": {
      "text/plain": [
       "Text(0, 0.5, 'N1')"
      ]
     },
     "execution_count": 15,
     "metadata": {},
     "output_type": "execute_result"
    },
    {
     "data": {
      "image/png": "[encoded data removed]",
      "text/plain": [
       "<Figure size 432x288 with 1 Axes>"
      ]
     },
     "metadata": {
      "needs_background": "light"
     },
     "output_type": "display_data"
    }
   ],
   "source": [
    "l=0\n",
    "npu1=[]\n",
    "for l in range(len(suu)):\n",
    "    y = pu[suu[l]]\n",
    "    npu1.append(y)\n",
    "    \n",
    "    \n",
    "    \n",
    "    \n",
    "bins=[]\n",
    "i=0\n",
    "for i in range(0,100):\n",
    "    c=i-0.5\n",
    "    bins.append(c) \n",
    "    \n",
    "graph1,bins = np.histogram(npu1,bins)\n",
    "plt.hist(npu1,bins,histtype=\"step\")\n",
    "plt.title(\"number of pileup for one_pass\")\n",
    "plt.xlabel(\"npu1\",fontweight='bold')\n",
    "plt.ylabel(\"N1\",fontweight='bold')"
   ]
  },
  {
   "cell_type": "code",
   "execution_count": 16,
   "id": "c3d05a15",
   "metadata": {},
   "outputs": [
    {
     "data": {
      "text/plain": [
       "Text(0, 0.5, 'N1')"
      ]
     },
     "execution_count": 16,
     "metadata": {},
     "output_type": "execute_result"
    },
    {
     "data": {
      "image/png": "[encoded data removed]",
      "text/plain": [
       "<Figure size 432x288 with 1 Axes>"
      ]
     },
     "metadata": {
      "needs_background": "light"
     },
     "output_type": "display_data"
    }
   ],
   "source": [
    "t=0\n",
    "npv1=[]\n",
    "for t in range(len(suu)):\n",
    "    w = pv[suu[t]]\n",
    "    npv1.append(w)\n",
    "\n",
    "    \n",
    "    \n",
    "    \n",
    "bins=[]\n",
    "i=0\n",
    "for i in range(0,100):\n",
    "    c=i-0.5\n",
    "    bins.append(c)    \n",
    "    \n",
    "graph2,bins = np.histogram(npv1,bins)\n",
    "plt.hist(npv1,bins,histtype=\"step\",color=\"red\")\n",
    "plt.title(\"number of pvertex one_pass\")\n",
    "plt.xlabel(\"npv1\",fontweight='bold')\n",
    "plt.ylabel(\"N1\",fontweight='bold')\n"
   ]
  },
  {
   "cell_type": "code",
   "execution_count": 17,
   "id": "3b6028c9",
   "metadata": {},
   "outputs": [],
   "source": [
    "n=0\n",
    "two_pass=[]\n",
    "sus=[]\n",
    "for n in range(len(H)):\n",
    "    if((H[n] == vector.obj(x=3,y=3)) or (H[n] == vector.obj(x=3,y=1)) or (H[n] == vector.obj(x=1,y=3)) or (H[n] == vector.obj(x=1,y=1))):\n",
    "        sus.append(n)\n",
    "        two_pass.append(H[n])"
   ]
  },
  {
   "cell_type": "code",
   "execution_count": 18,
   "id": "e7255786",
   "metadata": {},
   "outputs": [
    {
     "data": {
      "text/plain": [
       "Text(0, 0.5, 'N2')"
      ]
     },
     "execution_count": 18,
     "metadata": {},
     "output_type": "execute_result"
    },
    {
     "data": {
      "image/png": "[encoded data removed]",
      "text/plain": [
       "<Figure size 432x288 with 1 Axes>"
      ]
     },
     "metadata": {
      "needs_background": "light"
     },
     "output_type": "display_data"
    }
   ],
   "source": [
    "v=0\n",
    "npu2=[]\n",
    "for v in range(len(sus)):\n",
    "    q = pu[sus[v]]\n",
    "    npu2.append(q)\n",
    "\n",
    "    \n",
    "    \n",
    "    \n",
    "bins=[]\n",
    "i=0\n",
    "for i in range(0,100):\n",
    "    c=i-0.5\n",
    "    bins.append(c) \n",
    "    \n",
    "graph3,bins= np.histogram(npu2,bins)\n",
    "\n",
    "plt.hist(npu2,bins,histtype=\"step\")\n",
    "plt.title(\"number of pileup for two_pass\")\n",
    "plt.xlabel(\"npu2\",fontweight='bold')\n",
    "plt.ylabel(\"N2\",fontweight='bold')\n"
   ]
  },
  {
   "cell_type": "code",
   "execution_count": 19,
   "id": "56790df2",
   "metadata": {},
   "outputs": [
    {
     "data": {
      "text/plain": [
       "Text(0, 0.5, 'N2')"
      ]
     },
     "execution_count": 19,
     "metadata": {},
     "output_type": "execute_result"
    },
    {
     "data": {
      "image/png": "[encoded data removed]",
      "text/plain": [
       "<Figure size 432x288 with 1 Axes>"
      ]
     },
     "metadata": {
      "needs_background": "light"
     },
     "output_type": "display_data"
    }
   ],
   "source": [
    "u=0\n",
    "npv2=[]\n",
    "for u in range(len(sus)):\n",
    "    b = pv[sus[u]]\n",
    "    npv2.append(b)\n",
    "\n",
    "    \n",
    "    \n",
    "    \n",
    "    \n",
    "bins=[]\n",
    "i=0\n",
    "for i in range(0,100):\n",
    "    c=i-0.5\n",
    "    bins.append(c)    \n",
    "    \n",
    "graph4 ,bins = np.histogram(npv2,bins)\n",
    "plt.hist(npv2,bins,histtype=\"step\",color='hotpink')\n",
    "plt.title(\"number of pvertex for two_pass\")\n",
    "plt.xlabel(\"npv2\",fontweight='bold')\n",
    "plt.ylabel(\"N2\",fontweight='bold')\n"
   ]
  },
  {
   "cell_type": "code",
   "execution_count": 20,
   "id": "5dc225f0",
   "metadata": {},
   "outputs": [
    {
     "name": "stdout",
     "output_type": "stream",
     "text": [
      "300041\n"
     ]
    },
    {
     "data": {
      "text/plain": [
       "Text(0, 0.5, 'N')"
      ]
     },
     "execution_count": 20,
     "metadata": {},
     "output_type": "execute_result"
    },
    {
     "data": {
      "image/png": "[encoded data removed]",
      "text/plain": [
       "<Figure size 432x288 with 1 Axes>"
      ]
     },
     "metadata": {
      "needs_background": "light"
     },
     "output_type": "display_data"
    }
   ],
   "source": [
    "nput = npu0+npu1+npu2\n",
    "print(len(nput))\n",
    "bins=[]\n",
    "i=0\n",
    "for i in range(0,100):\n",
    "    c=i-0.5\n",
    "    bins.append(c)   \n",
    "    \n",
    "    \n",
    "graph ,bins = np.histogram(nput,bins)\n",
    "plt.hist(nput,bins,histtype=\"step\",color='black')\n",
    "plt.title(\"number of reconst z\")\n",
    "plt.xlabel(\"nput\",fontweight='bold')\n",
    "plt.ylabel(\"N\",fontweight='bold')\n"
   ]
  },
  {
   "cell_type": "code",
   "execution_count": 21,
   "id": "106ef346",
   "metadata": {},
   "outputs": [
    {
     "name": "stdout",
     "output_type": "stream",
     "text": [
      "300041\n"
     ]
    },
    {
     "data": {
      "text/plain": [
       "Text(0, 0.5, 'N')"
      ]
     },
     "execution_count": 21,
     "metadata": {},
     "output_type": "execute_result"
    },
    {
     "data": {
      "image/png": "[encoded data removed]",
      "text/plain": [
       "<Figure size 432x288 with 1 Axes>"
      ]
     },
     "metadata": {
      "needs_background": "light"
     },
     "output_type": "display_data"
    }
   ],
   "source": [
    "npvt = npv0+npv1+npv2\n",
    "print(len(npvt))\n",
    "bins=[]\n",
    "i=0\n",
    "for i in range(0,100):\n",
    "    c=i-0.5\n",
    "    bins.append(c)   \n",
    "    \n",
    "    \n",
    "graphh ,bins = np.histogram(npvt,bins)\n",
    "plt.hist(npvt,bins,histtype=\"step\",color='blue')\n",
    "plt.title(\"number of reconst z\")\n",
    "plt.xlabel(\"npvt\",fontweight='bold')\n",
    "plt.ylabel(\"N\",fontweight='bold')"
   ]
  },
  {
   "cell_type": "code",
   "execution_count": 22,
   "id": "4e53fd0d",
   "metadata": {},
   "outputs": [
    {
     "data": {
      "text/plain": [
       "<matplotlib.colorbar.Colorbar at 0x7f6d80df3100>"
      ]
     },
     "execution_count": 22,
     "metadata": {},
     "output_type": "execute_result"
    },
    {
     "data": {
      "image/png": "[encoded data removed]",
      "text/plain": [
       "<Figure size 432x288 with 2 Axes>"
      ]
     },
     "metadata": {
      "needs_background": "light"
     },
     "output_type": "display_data"
    }
   ],
   "source": [
    "bins=[]\n",
    "i=0\n",
    "for i in range(0,100):\n",
    "    c=i-0.5\n",
    "    bins.append(c)   \n",
    "    \n",
    "from matplotlib.colors import LogNorm  \n",
    "\n",
    "graphh ,bins = np.histogram(npvt,bins)\n",
    "graph ,bins = np.histogram(nput,bins)\n",
    "plt.hist2d(npvt,nput,norm=LogNorm())\n",
    "plt.xlabel(\"number of primary vertices\",fontweight='bold')\n",
    "plt.ylabel(\"number of PU events\",fontweight='bold')\n",
    "plt.colorbar()\n"
   ]
  },
  {
   "cell_type": "code",
   "execution_count": 26,
   "id": "16c61667",
   "metadata": {},
   "outputs": [
    {
     "name": "stdout",
     "output_type": "stream",
     "text": [
      "[0.96333182 1.00087565 1.00131128 0.99955196 0.99922228 0.99878981\n",
      " 0.99818179 1.00311476 1.00198863 0.99922376 0.997729   0.99774226\n",
      " 0.99743235 1.00127294 1.00509978 1.0004296  0.99950285 0.99968119\n",
      " 1.00297956 1.00214314 1.00094546 1.00160254 0.99948514 0.99710735\n",
      " 1.0000808  0.99996205 0.99927043 1.00298377 0.99560378 0.99963536\n",
      " 0.99580502 1.00125418 0.99840473 1.00057071 1.00221515 0.99366534\n",
      " 0.99999973 0.99546003 0.99695563 1.0024709  0.99304699 1.00371316\n",
      " 1.00048998 0.99872602 1.00122021 1.00139081 0.99725494 0.99805188\n",
      " 1.00295981 0.99507143 1.00146608 0.99843153 1.00451034 0.99046929\n",
      " 0.99529023 1.00774879 0.99205948 0.99858583 0.99327662 0.99082951\n",
      " 1.01574394 1.00826446 0.98061208 0.98114344 1.0050755  1.01553201\n",
      " 1.05981096 1.03450327 1.00819156 1.07958478 1.04081633 0.99382716\n",
      " 0.83044983 1.         0.88888889 1.         1.         1.        ]\n"
     ]
    },
    {
     "name": "stderr",
     "output_type": "stream",
     "text": [
      "/tmp/ipykernel_551/3647178741.py:1: RuntimeWarning: invalid value encountered in long_scalars\n",
      "  ooutput = np.array([ (z/y) * pow(((2 * y) / ((2 * y) + x) ),2)  for x, y , z in zip(graph2,graph4,graphh)])\n",
      "/tmp/ipykernel_551/3647178741.py:1: RuntimeWarning: divide by zero encountered in long_scalars\n",
      "  ooutput = np.array([ (z/y) * pow(((2 * y) / ((2 * y) + x) ),2)  for x, y , z in zip(graph2,graph4,graphh)])\n",
      "/tmp/ipykernel_551/3647178741.py:1: RuntimeWarning: invalid value encountered in double_scalars\n",
      "  ooutput = np.array([ (z/y) * pow(((2 * y) / ((2 * y) + x) ),2)  for x, y , z in zip(graph2,graph4,graphh)])\n"
     ]
    },
    {
     "data": {
      "image/png": "[encoded data removed]",
      "text/plain": [
       "<Figure size 1800x720 with 1 Axes>"
      ]
     },
     "metadata": {
      "needs_background": "light"
     },
     "output_type": "display_data"
    }
   ],
   "source": [
    "ooutput = np.array([ (z/y) * pow(((2 * y) / ((2 * y) + x) ),2)  for x, y , z in zip(graph2,graph4,graphh)])\n",
    "ooutput = ooutput[:78]\n",
    "bins=[]\n",
    "print(ooutput)\n",
    "i=0\n",
    "for i in range(0,100):\n",
    "    c=i-0.5\n",
    "    bins.append(c)  \n",
    "bins = bins[:78]    \n",
    "fig = plt.figure(figsize=(25, 10))\n",
    "ax1 = plt.subplot2grid((2,4), (0,2)) \n",
    "ax1.step(bins,ooutput, lw=1)\n",
    "\n",
    "plt.axhline(y = 1, color = 'black', linestyle = 'dashed')   \n",
    "ax1.set_title(\"correlation as a function of number of pvertex\")\n",
    "plt.xlabel(\"number of primary vertices\",fontweight='bold')\n",
    "plt.ylabel(\"correlation \",fontweight='bold')\n",
    "plt.grid()\n",
    "plt.show()\n"
   ]
  },
  {
   "cell_type": "code",
   "execution_count": 24,
   "id": "ccf0f2ba",
   "metadata": {},
   "outputs": [
    {
     "name": "stderr",
     "output_type": "stream",
     "text": [
      "/tmp/ipykernel_551/2783447158.py:1: RuntimeWarning: invalid value encountered in long_scalars\n",
      "  out = np.array([ (z/y) * pow(((2 * y) / ((2 * y) + x) ),2)  for x, y , z in zip(graph1,graph3,graph)])\n"
     ]
    },
    {
     "name": "stdout",
     "output_type": "stream",
     "text": [
      "[0.9991137  0.99850754 0.99775415 1.00375359 0.99301111 0.99872319\n",
      " 1.00520358 0.99751452 1.0035735  1.00104319 0.99902892 1.00034851\n",
      " 1.0021331  0.99831154 0.99606644 1.00042253 1.00550235 1.00671352\n",
      " 0.9990828  1.00180914 1.00547104 1.00072273 1.00118887 0.99897379\n",
      " 0.99722439 0.99863063 0.99867836 0.99868603 0.99852348 1.00134898\n",
      " 0.99986995 1.00036909 0.99858157 1.00322763 1.00063874 0.99959564\n",
      " 0.99582111 0.99836071 0.9996119  0.9976615  0.99897796 0.99990244\n",
      " 1.00148065 0.99858313 1.00399304 0.99576728 0.99524351 0.99668813\n",
      " 1.00114378 0.99558168 0.99612791 0.99718195 0.99909672 0.99836779\n",
      " 1.00125205 0.99735288 1.00404831 1.00062082 1.00078082 1.00085317\n",
      " 0.99829643 0.99793965 1.00123557 1.00010209 1.00602387 0.99835471\n",
      " 1.0002961  0.99777903 0.99750702 0.99393424 0.99853288]\n"
     ]
    },
    {
     "data": {
      "image/png": "[encoded data removed]",
      "text/plain": [
       "<Figure size 1800x720 with 1 Axes>"
      ]
     },
     "metadata": {
      "needs_background": "light"
     },
     "output_type": "display_data"
    }
   ],
   "source": [
    "out = np.array([ (z/y) * pow(((2 * y) / ((2 * y) + x) ),2)  for x, y , z in zip(graph1,graph3,graph)])\n",
    "out = out[:71]\n",
    "bins=[]\n",
    "print(out)\n",
    "i=0\n",
    "for i in range(0,100):\n",
    "    c=i-0.5\n",
    "    bins.append(c)  \n",
    "bins = bins[:71] \n",
    "\n",
    "fig = plt.figure(figsize=(25, 10))\n",
    "ax2 = plt.subplot2grid((2,4), (0,2)) \n",
    "ax2.step(bins,out, lw=1)\n",
    "plt.ylim([0.990, 1.025])\n",
    "plt.axhline(y = 1, color = 'r', linestyle = 'dashed')   \n",
    "ax2.set_title(\"correlation as a function of number of pileup\")\n",
    "plt.title(\"correlation as a function of number of pileup\")\n",
    "plt.xlabel(\"number of pileup\",fontweight='bold')\n",
    "plt.ylabel(\"correlation \",fontweight='bold')\n",
    "plt.grid()\n",
    "plt.show()"
   ]
  },
  {
   "cell_type": "code",
   "execution_count": 46,
   "id": "96d00528",
   "metadata": {
    "scrolled": false
   },
   "outputs": [
    {
     "name": "stderr",
     "output_type": "stream",
     "text": [
      "/tmp/ipykernel_551/2566373990.py:1: RuntimeWarning: invalid value encountered in long_scalars\n",
      "  output1 = np.array([(2*y)/((2*y)+x) for x, y in zip(graph1,graph3)])\n"
     ]
    },
    {
     "data": {
      "image/png": "[encoded data removed]",
      "text/plain": [
       "<Figure size 432x288 with 1 Axes>"
      ]
     },
     "metadata": {
      "needs_background": "light"
     },
     "output_type": "display_data"
    }
   ],
   "source": [
    "output1 = np.array([(2*y)/((2*y)+x) for x, y in zip(graph1,graph3)])\n",
    "output1 = output1[:71]\n",
    "bins = bins[:71]\n",
    "plt.plot(bins,output1,'o',markersize=2,color='red')\n",
    "plt.ylim([0.6, 1])\n",
    "plt.title(\"efficiency as a function of number of pileup\")\n",
    "plt.xlabel(\"number of pileup\",fontweight='bold')\n",
    "plt.ylabel(\"efficiency \",fontweight='bold')\n",
    "plt.grid()\n"
   ]
  },
  {
   "cell_type": "code",
   "execution_count": 45,
   "id": "98aaf0b9",
   "metadata": {},
   "outputs": [
    {
     "name": "stderr",
     "output_type": "stream",
     "text": [
      "/tmp/ipykernel_551/1266898128.py:1: RuntimeWarning: invalid value encountered in long_scalars\n",
      "  output2 = np.array([(2*y)/((2*y)+x) for x, y in zip(graph2,graph4)])\n"
     ]
    },
    {
     "data": {
      "image/png": "[encoded data removed]",
      "text/plain": [
       "<Figure size 432x288 with 1 Axes>"
      ]
     },
     "metadata": {
      "needs_background": "light"
     },
     "output_type": "display_data"
    }
   ],
   "source": [
    "output2 = np.array([(2*y)/((2*y)+x) for x, y in zip(graph2,graph4)])\n",
    "bins=[]\n",
    "i=0\n",
    "for i in range(0,100):\n",
    "    c=i-0.5\n",
    "    bins.append(c)\n",
    "    \n",
    "output2 = output2[:78]\n",
    "bins = bins[:78]\n",
    "plt.plot(bins,output2,'o',markersize=2,color='c')\n",
    "plt.ylim([0.6, 1])\n",
    "plt.title(\"efficiency as a function of number of primary vertices\")\n",
    "plt.xlabel(\"number of primary vertices\",fontweight='bold')\n",
    "plt.ylabel(\"efficiency \",fontweight='bold')\n",
    "plt.grid()"
   ]
  },
  {
   "cell_type": "code",
   "execution_count": 28,
   "id": "f68ec349",
   "metadata": {},
   "outputs": [
    {
     "name": "stdout",
     "output_type": "stream",
     "text": [
      "len(trigger) 300041\n",
      "len(two_fail) 8319\n",
      "len(one_pass) 83448\n",
      "len(two_pass) 208274\n"
     ]
    },
    {
     "data": {
      "text/plain": [
       "<matplotlib.legend.Legend at 0x7f9548c511f0>"
      ]
     },
     "execution_count": 28,
     "metadata": {},
     "output_type": "execute_result"
    },
    {
     "data": {
      "image/png": "[encoded data removed]",
      "text/plain": [
       "<Figure size 432x288 with 1 Axes>"
      ]
     },
     "metadata": {
      "needs_background": "light"
     },
     "output_type": "display_data"
    }
   ],
   "source": [
    "print(\"len(trigger)\",len(H))                \n",
    "print(\"len(two_fail)\",len(two_fail))\n",
    "print(\"len(one_pass)\",len(one_pass))\n",
    "print(\"len(two_pass)\",len(two_pass))\n",
    "\n",
    "i=0\n",
    "j=0\n",
    "n=0\n",
    "zero=[]\n",
    "one=[]\n",
    "two=[]\n",
    "\n",
    "for i in range(len(two_fail)):\n",
    "    two_fail[i]=0\n",
    "    zero.append(two_fail[i])\n",
    "    \n",
    "for j in range(len(one_pass)):\n",
    "    one_pass[j]=1\n",
    "    one.append(one_pass[j])\n",
    "    \n",
    "for n in range(len(two_pass)):\n",
    "    two_pass[n]=2\n",
    "    two.append(two_pass[n])\n",
    "    \n",
    "\n",
    "plt.hist(zero ,color='red',bins=1,label=\"two_fail\") \n",
    "plt.hist(one,color='blue',bins=1,label=\"one_pass\")\n",
    "plt.hist(two , color='black',bins=1,label=\"two_pass\")\n",
    "plt.legend()"
   ]
  },
  {
   "cell_type": "code",
   "execution_count": null,
   "id": "c20697f4",
   "metadata": {},
   "outputs": [],
   "source": [
    "### Approch 1\n",
    "\n",
    "#N = number of reconstructed z boson\n",
    "#effhlt = probability that one electron passing hlt\n",
    "### N1 = 2*effhlt*(1-effhlt)*N\n",
    "### N2 = effhlt*effhlt*N\n",
    "### N0 = ((1-effhlt)^2 )*N"
   ]
  },
  {
   "cell_type": "code",
   "execution_count": 29,
   "id": "6c98c529",
   "metadata": {},
   "outputs": [
    {
     "name": "stdout",
     "output_type": "stream",
     "text": [
      "effhlt [1/2 - sqrt(39948958945)/600082, sqrt(39948958945)/600082 + 1/2]\n",
      "0.16692492587608776\n",
      "0.8330750741239122\n",
      "eff1hlt [-sqrt(62490739234)/300041, sqrt(62490739234)/300041]\n",
      "-0.8331577277167282\n",
      "0.8331577277167282\n",
      "eff2hlt [1 - sqrt(2496041079)/300041, sqrt(2496041079)/300041 + 1]\n",
      "0.833488106277067\n",
      "1.166511893722933\n",
      "300041\n",
      "0.8331026648213186\n"
     ]
    }
   ],
   "source": [
    "from sympy import symbols, solve\n",
    "import math \n",
    "\n",
    "N0 = len(two_fail) \n",
    "N1 = len(one_pass) \n",
    "N2 = len(two_pass) \n",
    "N = 300041\n",
    "\n",
    "eff = symbols('eff')\n",
    "eq = (2*eff*(1-eff)*N) - N1\n",
    "answer = solve(eq)\n",
    "n = np.array(answer) \n",
    "print(\"effhlt\",answer)\n",
    "print(float(n[0]))\n",
    "print(float(n[1]))\n",
    "\n",
    "eff1 = symbols('eff1')\n",
    "eq1 = (eff1*eff1*N) - N2\n",
    "answe = solve(eq1)\n",
    "n1 = np.array(answe)\n",
    "print(\"eff1hlt\",answe)\n",
    "print(float(n1[0]))\n",
    "print(float(n1[1]))\n",
    "\n",
    "eff2 = symbols('eff2')\n",
    "eq2 = (pow((1-eff2),2)*N) - N0\n",
    "answ = solve(eq2)\n",
    "n2 = np.array(answ)\n",
    "print(\"eff2hlt\",answ)\n",
    "print(float(n2[0]))\n",
    "print(float(n2[1]))\n",
    "efff = (2*N2)/((2*N2)+N1)\n",
    "u = N1+N0+N2\n",
    "print(u)\n",
    "print(efff)"
   ]
  },
  {
   "cell_type": "code",
   "execution_count": 30,
   "id": "1568a80d",
   "metadata": {},
   "outputs": [
    {
     "name": "stdout",
     "output_type": "stream",
     "text": [
      "0.9998678255652174\n"
     ]
    }
   ],
   "source": [
    "##Correlation coefficient\n",
    "#N2 = C * eff^2 * N\n",
    "#N1 = 2 * eff * (1 - C * eff) * N\n",
    "#N0 = (1 - 2 * eff + C * eff^2) * N\n",
    "C = (N/N2) * pow((2 * N2 / (2 * N2 + N1) ),2)\n",
    "print(C)"
   ]
  },
  {
   "cell_type": "code",
   "execution_count": 31,
   "id": "cf43c27c",
   "metadata": {},
   "outputs": [
    {
     "name": "stdout",
     "output_type": "stream",
     "text": [
      "correlation [1.00013219190717]\n"
     ]
    }
   ],
   "source": [
    "cc = symbols('cc')\n",
    "e = (cc *pow(efff,2) * N)-N2\n",
    "an = solve(e)\n",
    "print(\"correlation\",an)"
   ]
  },
  {
   "cell_type": "code",
   "execution_count": 32,
   "id": "9cf8a1fa",
   "metadata": {},
   "outputs": [
    {
     "name": "stdout",
     "output_type": "stream",
     "text": [
      "correlation [0.999973517697194]\n"
     ]
    }
   ],
   "source": [
    "ccc = symbols('ccc')\n",
    "ll = (2 * efff * (1 - ccc * efff) * N)-N1\n",
    "ana = solve(ll)\n",
    "print(\"correlation\",ana)"
   ]
  },
  {
   "cell_type": "code",
   "execution_count": 33,
   "id": "488bbd29",
   "metadata": {},
   "outputs": [
    {
     "name": "stdout",
     "output_type": "stream",
     "text": [
      "correlation [0.999814843487210]\n"
     ]
    }
   ],
   "source": [
    "cccc = symbols('cccc')\n",
    "pp = ((1 - (2 * efff) + (cccc * pow(efff,2))) * N)-N0\n",
    "anaa = solve(pp)\n",
    "print(\"correlation\",anaa)"
   ]
  }
 ],
 "metadata": {
  "@webio": {
   "lastCommId": null,
   "lastKernelId": null
  },
  "kernelspec": {
   "display_name": "Python 3",
   "language": "python",
   "name": "python3"
  },
  "language_info": {
   "codemirror_mode": {
    "name": "ipython",
    "version": 3
   },
   "file_extension": ".py",
   "mimetype": "text/x-python",
   "name": "python",
   "nbconvert_exporter": "python",
   "pygments_lexer": "ipython3",
   "version": "3.11.9"
  }
 },
 "nbformat": 4,
 "nbformat_minor": 5
}
