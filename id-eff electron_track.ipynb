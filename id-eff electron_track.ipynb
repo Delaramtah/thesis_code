{
 "cells": [
  {
   "cell_type": "code",
   "execution_count": 1,
   "id": "c5266961",
   "metadata": {},
   "outputs": [
    {
     "data": {
      "text/plain": [
       "['countEvents;1',\n",
       " 'countEvents/unweightedEvents;1',\n",
       " 'countEvents/weightedEvents;1',\n",
       " 'pileupMCTemplateMaker;1',\n",
       " 'pileupMCTemplateMaker/MC_TrueNInt_outOfTimeEarly;1',\n",
       " 'pileupMCTemplateMaker/MC_TrueNInt_inTime;1',\n",
       " 'pileupMCTemplateMaker/MC_TrueNInt_outOfTimeLate;1',\n",
       " 'zcounting;1',\n",
       " 'zcounting/tree;1']"
      ]
     },
     "execution_count": 1,
     "metadata": {},
     "output_type": "execute_result"
    }
   ],
   "source": [
    "import uproot\n",
    "import matplotlib.pyplot as plt\n",
    "import vector\n",
    "import awkward as ak\n",
    "import hist\n",
    "import numpy as np\n",
    "import itertools\n",
    "import math\n",
    "\n",
    "\n",
    "treename=\"zcounting/tree\"\n",
    "filename_ntuple=\"/eos/cms/store/group/comm_luminosity/ZCounting/2022/MC/crab/DYJetsToLL_M_50_LO_FlatPU0to70_Run3Winter22.root\"\n",
    "f1=uproot.open(filename_ntuple)\n",
    "f1.keys()"
   ]
  },
  {
   "cell_type": "code",
   "execution_count": 2,
   "id": "74dd78f8",
   "metadata": {},
   "outputs": [],
   "source": [
    "data=uproot.open(filename_ntuple+\":\"+treename)"
   ]
  },
  {
   "cell_type": "code",
   "execution_count": 3,
   "id": "ff86c1f9",
   "metadata": {},
   "outputs": [],
   "source": [
    "#Track collection \n",
    "electron_track = data.arrays([\"Track_pt\",\"Track_eta\",\"Track_phi\",\"Track_charge\"],\"(Track_pt>30)&(abs(Track_eta)<2.5)&(decayMode==11)\")"
   ]
  },
  {
   "cell_type": "code",
   "execution_count": 4,
   "id": "324758b6",
   "metadata": {},
   "outputs": [],
   "source": [
    "#Electron collection\n",
    "electron_ele = data.arrays([\"Electron_pt\",\"Electron_eta\",\"Electron_phi\",\"Electron_charge\"],\"(Electron_pt>30)&(abs(Electron_eta)<2.5)&(decayMode==11)\")"
   ]
  },
  {
   "cell_type": "code",
   "execution_count": 6,
   "id": "6030f323",
   "metadata": {},
   "outputs": [],
   "source": [
    "eventId = data.arrays([\"eventNumber\"])\n",
    "nPileup = data.arrays([\"nPU\"])\n",
    "nVertex = data.arrays([\"nPV\"])"
   ]
  },
  {
   "cell_type": "code",
   "execution_count": 5,
   "id": "8226d3f6",
   "metadata": {},
   "outputs": [
    {
     "name": "stdout",
     "output_type": "stream",
     "text": [
      "charge [((1, -1), (1, -1)), ((1, -1), (-1, 1)), ((1, ... 1), (-1, 1)), ((-1, 1), (1, -1))]\n",
      "eta [((1.97, 1.47), (1.97, 1.47)), ((0.369, -0.627, ... ((1.23, 0.113), (0.113, 1.23))]\n",
      "phi [((-0.88, 2.53), (-0.879, 2.53)), ((-2.07, 1.81, ... ((-2.21, 1.27), (1.27, -2.21))]\n",
      "pt [((39.8, 49.2), (35.6, 51.6)), ((30.8, 60.6), (, ... )), ((38, 39.2), (31.8, 35))]\n"
     ]
    }
   ],
   "source": [
    "import vector\n",
    "vector.register_awkward()\n",
    "myEvent = ak.zip({\n",
    "        \"charge\": ak.combinations(electron_ele[\"Electron_charge\"],2),\n",
    "        \"pt\" : ak.combinations(electron_ele[\"Electron_pt\"],2),\n",
    "        \"eta\" :ak.combinations(electron_ele[\"Electron_eta\"],2),\n",
    "        \"phi\" : ak.combinations(electron_ele[\"Electron_phi\"],2),\n",
    "        \n",
    "    }, with_name=\"collection of ele\")\n",
    "\n",
    "\n",
    "myEventt = ak.zip({\n",
    "        \"tcharge\": ak.combinations(electron_track[\"Track_charge\"],2),\n",
    "        \"tpt\" : ak.combinations(electron_track[\"Track_pt\"],2),\n",
    "        \"teta\" :ak.combinations(electron_track[\"Track_eta\"],2),\n",
    "        \"tphi\" : ak.combinations(electron_track[\"Track_phi\"],2),\n",
    "    \n",
    "    }, with_name=\"collection of trk\")\n",
    "\n",
    "\n",
    "lefts, rights = ak.unzip(myEvent.charge)\n",
    "tlefts, trights = ak.unzip(myEventt.tcharge)\n",
    "\n",
    "mask_Electron = lefts*rights == -1\n",
    "selEvent = ak.flatten(myEvent[mask_Electron])\n",
    "\n",
    "mask_Electront = tlefts*trights == -1\n",
    "selEventt = ak.flatten(myEventt[mask_Electront])\n",
    "\n",
    "\n",
    "selEventF = myEvent[mask_Electron]\n",
    "selEventtF = myEventt[mask_Electront]\n",
    "charge = ak.flatten( ak.cartesian([selEventF[\"charge\"],selEventtF[\"tcharge\"]]))\n",
    "phi = ak.flatten( ak.cartesian([selEventF[\"phi\"],selEventtF[\"tphi\"]]))\n",
    "eta = ak.flatten( ak.cartesian([selEventF[\"eta\"],selEventtF[\"teta\"]]))\n",
    "pt = ak.flatten( ak.cartesian([selEventF[\"pt\"],selEventtF[\"tpt\"]]))\n",
    "\n",
    "print(\"charge\",charge)\n",
    "print(\"eta\" , eta)\n",
    "print(\"phi\" , phi)\n",
    "print(\"pt\" , pt)\n"
   ]
  },
  {
   "cell_type": "code",
   "execution_count": 6,
   "id": "568d2842",
   "metadata": {},
   "outputs": [],
   "source": [
    "##function for calculate deltaR\n",
    "\n",
    "def deltaREval(phi1, phi2, eta1, eta2):\n",
    "    dPhi = dphi(phi1,phi2)\n",
    "    return math.sqrt(dPhi**2+ (eta1-eta2)**2)\n",
    "\n",
    "\n",
    "def dphi(p1,p2):\n",
    "    res = p1 - p2\n",
    "    while res > math.pi:\n",
    "        res -= 2*math.pi\n",
    "    while res < -math.pi:\n",
    "        res += 2*math.pi\n",
    "    return res\n",
    "\n",
    "##function for calculate mass\n",
    "\n",
    "electronMass = 0.000510999\n",
    "mass_lo = 75\n",
    "mass_hi = 105\n",
    "\n",
    "##convert pt,eta,phi,charge to list form \n",
    "\n",
    "myPt = pt.to_list()\n",
    "myEta = eta.to_list()\n",
    "myPhi = phi.to_list()\n",
    "myCharge = charge.to_list()\n",
    "\n",
    "\n",
    "##\n",
    "\n",
    "drList = []\n",
    "Pt = []\n",
    "Eta = []\n",
    "Phi = []\n",
    "for idx in range(0,len(myEta)):\n",
    "    DRL = -999\n",
    "    DRR = -999\n",
    "    if(myCharge[idx][0][0]*myCharge[idx][1][0]>0):\n",
    "        DRL = deltaREval(myPhi[idx][0][0],myPhi[idx][1][0],myEta[idx][0][0],myEta[idx][1][0])\n",
    "        DRR = deltaREval(myPhi[idx][0][1],myPhi[idx][1][1],myEta[idx][0][1],myEta[idx][1][1])\n",
    "        \n",
    "        pttr = (myPt[idx][1][0] , myPt[idx][1][1])\n",
    "        etatr = (myEta[idx][1][0] , myEta[idx][1][1])\n",
    "        phitr = (myPhi[idx][1][0] , myPhi[idx][1][1])\n",
    "        \n",
    "        Pt.append(pttr)\n",
    "        Eta.append(etatr)\n",
    "        Phi.append(phitr)\n",
    "        \n",
    "    else:\n",
    "        DRL = deltaREval(myPhi[idx][0][0],myPhi[idx][1][1],myEta[idx][0][0],myEta[idx][1][1])\n",
    "        DRR = deltaREval(myPhi[idx][0][1],myPhi[idx][1][0],myEta[idx][0][1],myEta[idx][1][0])\n",
    "        \n",
    "        pttr = (myPt[idx][1][0] , myPt[idx][1][1])\n",
    "        etatr = (myEta[idx][1][0] , myEta[idx][1][1])\n",
    "        phitr = (myPhi[idx][1][0] , myPhi[idx][1][1])\n",
    "        \n",
    "        Pt.append(pttr)\n",
    "        Eta.append(etatr)\n",
    "        Phi.append(phitr)\n",
    "        \n",
    "    tmpList = [1 if (DRL < 0.3) else 0,1 if(DRR<0.3) else 0]\n",
    "    drList.append(tuple(tmpList))\n",
    "\n",
    "# vip \n",
    "o = ak.Array(drList)\n",
    "r ,l = ak.unzip(o)\n",
    "mask_dr = (l+r) > 0\n",
    "\n",
    "\n"
   ]
  },
  {
   "cell_type": "code",
   "execution_count": 7,
   "id": "1318b580",
   "metadata": {
    "scrolled": true
   },
   "outputs": [
    {
     "name": "stdout",
     "output_type": "stream",
     "text": [
      "deltar [(1, 1), (1, 1), (1, 1), (1, 1), (0, 1), (1, ... 1), (1, 1), (1, 1), (1, 1), (1, 1)]\n",
      "ptlen 404958\n",
      "leno 404958\n"
     ]
    }
   ],
   "source": [
    "print(\"deltar\",o)\n",
    "print(\"ptlen\",len(Pt))\n",
    "print(\"leno\",len(o))\n"
   ]
  },
  {
   "cell_type": "code",
   "execution_count": 8,
   "id": "7b7c40f7",
   "metadata": {},
   "outputs": [
    {
     "name": "stdout",
     "output_type": "stream",
     "text": [
      "lpt [35.6, 53.4, 36.9, 52, 69.4, 69.4, 35.9, ... 82.6, 39.9, 34.5, 34.3, 41.8, 31.8]\n",
      "rpt [51.6, 30.2, 35.9, 45.6, 40.6, 55.9, 41.8, ... 65.8, 91.3, 35.5, 36.7, 34, 47.4, 35]\n",
      "len(rpt) 398643\n",
      "len(Pt) 404958\n"
     ]
    }
   ],
   "source": [
    "op = ak.Array(Pt)[mask_dr]\n",
    "oe = ak.Array(Eta)[mask_dr]\n",
    "oph = ak.Array(Phi)[mask_dr]\n",
    "\n",
    "\n",
    "lpt , rpt = ak.unzip(op)\n",
    "leta , reta = ak.unzip(oe)\n",
    "lphi , rphi = ak.unzip(oph)\n",
    "\n",
    "print(\"lpt\",lpt)\n",
    "print(\"rpt\",rpt)\n",
    "\n",
    "print(\"len(rpt)\",len(rpt))\n",
    "print(\"len(Pt)\",len(Pt))\n"
   ]
  },
  {
   "cell_type": "code",
   "execution_count": 9,
   "id": "71c9d498",
   "metadata": {},
   "outputs": [],
   "source": [
    "electronMass = 0.000510999\n",
    "mass_lo = 76\n",
    "mass_hi = 106\n",
    "\n",
    "n=0\n",
    "masses=[]\n",
    "for n in range(len(lpt)):\n",
    "    \n",
    "    electron1 = vector.obj(pt=lpt[n], phi=lphi[n], eta=leta[n], mass=electronMass)\n",
    "    electron2 = vector.obj(pt=rpt[n], phi=rphi[n], eta=reta[n], mass=electronMass)\n",
    "    masses.append((electron1 + electron2).mass)\n",
    "    "
   ]
  },
  {
   "cell_type": "code",
   "execution_count": 10,
   "id": "97cd46bb",
   "metadata": {},
   "outputs": [
    {
     "name": "stdout",
     "output_type": "stream",
     "text": [
      "398643\n",
      "[87.60820766062707, 85.59865792826344, 114.46631628544341, 97.46024682011914]\n"
     ]
    }
   ],
   "source": [
    "print(len(masses))\n",
    "print(masses[0:4])"
   ]
  },
  {
   "cell_type": "code",
   "execution_count": 11,
   "id": "7f7e68aa",
   "metadata": {},
   "outputs": [],
   "source": [
    "r=0\n",
    "massz=[]\n",
    "submassz=[]\n",
    "\n",
    "for r in range(len(masses)):\n",
    "    if((masses[r]>mass_lo)&(masses[r]<mass_hi)):\n",
    "        massz.append(masses[r])\n",
    "        submassz.append(r)\n"
   ]
  },
  {
   "cell_type": "code",
   "execution_count": 12,
   "id": "e56df870",
   "metadata": {},
   "outputs": [
    {
     "name": "stdout",
     "output_type": "stream",
     "text": [
      "[0, 1, 3, 5, 6, 7, 8, 9, 12, 13, 14, 15, 16, 17]\n"
     ]
    }
   ],
   "source": [
    "print(submassz[0:14])"
   ]
  },
  {
   "cell_type": "code",
   "execution_count": 13,
   "id": "b6cf7eb6",
   "metadata": {},
   "outputs": [],
   "source": [
    "opp = ak.Array(Pt)\n",
    "no = ak.to_numpy(opp)\n",
    "nop = ak.to_numpy(op)\n",
    "\n",
    "i=0\n",
    "n=[]\n",
    "for i in range(len(submassz)):\n",
    "    q = ak.flatten(np.array(np.where(no==nop[submassz[i]])))\n",
    "    n.append(q)\n",
    "flat_list = list(itertools.chain.from_iterable(n)) "
   ]
  },
  {
   "cell_type": "code",
   "execution_count": 14,
   "id": "9b27f0da",
   "metadata": {},
   "outputs": [
    {
     "name": "stdout",
     "output_type": "stream",
     "text": [
      "303120\n"
     ]
    }
   ],
   "source": [
    "m=0\n",
    "subm=[]\n",
    "for m in range(len(flat_list)):\n",
    "    subm.append(o[flat_list[m]])\n",
    "    \n",
    "print(len(subm))"
   ]
  },
  {
   "cell_type": "code",
   "execution_count": 15,
   "id": "9009da86",
   "metadata": {},
   "outputs": [
    {
     "name": "stdout",
     "output_type": "stream",
     "text": [
      "[(1, 1), (1, 1), (1, 1), (1, 1), (1, 1), (1, ... 1), (1, 1), (1, 1), (1, 1), (1, 1)]\n"
     ]
    }
   ],
   "source": [
    "tt= np.array(subm)\n",
    "y=ak.Array(tt)\n",
    "print(y)"
   ]
  },
  {
   "cell_type": "code",
   "execution_count": 16,
   "id": "d81791f8",
   "metadata": {},
   "outputs": [
    {
     "name": "stdout",
     "output_type": "stream",
     "text": [
      "292548\n",
      "[1, 1, 1, 1, 1, 1, 1, 1, 1, 1, 1, 1, 1, 1, ... 1, 1, 1, 1, 1, 1, 1, 1, 1, 1, 1, 1, 1]\n",
      "[1, 1, 1, 1, 1, 1, 1, 1, 1, 1, 1, 1, 1, 1, ... 1, 1, 1, 1, 1, 1, 1, 1, 1, 1, 1, 1, 1]\n",
      "303120\n"
     ]
    }
   ],
   "source": [
    "rr ,ll = ak.unzip(y)\n",
    "mask_drf = (ll+rr)==2\n",
    "llll=y[mask_drf]\n",
    "print(len(llll))\n",
    "print(rr)\n",
    "print(ll)\n",
    "print(len(rr))"
   ]
  },
  {
   "cell_type": "code",
   "execution_count": 17,
   "id": "a43d9fcf",
   "metadata": {},
   "outputs": [
    {
     "name": "stdout",
     "output_type": "stream",
     "text": [
      "Npass 292548\n",
      "Nfail+Npass 303120\n",
      "electron|track 0.9651227236737926\n"
     ]
    }
   ],
   "source": [
    "print(\"Npass\",len(llll))\n",
    "print(\"Nfail+Npass\",len(y))\n",
    "print(\"electron|track\",len(llll)/len(y))"
   ]
  },
  {
   "cell_type": "code",
   "execution_count": null,
   "id": "bb87fb13",
   "metadata": {},
   "outputs": [],
   "source": []
  }
 ],
 "metadata": {
  "kernelspec": {
   "display_name": "Python 3",
   "language": "python",
   "name": "python3"
  },
  "language_info": {
   "codemirror_mode": {
    "name": "ipython",
    "version": 3
   },
   "file_extension": ".py",
   "mimetype": "text/x-python",
   "name": "python",
   "nbconvert_exporter": "python",
   "pygments_lexer": "ipython3",
   "version": "3.11.9"
  }
 },
 "nbformat": 4,
 "nbformat_minor": 5
}
